{
  "cells": [
    {
      "cell_type": "markdown",
      "metadata": {
        "collapsed": true,
        "id": "rR28CrOF7X2j"
      },
      "source": [
        "# Машинное обучение. ВМК МГУ\n",
        "## Практическое задание 8: Градиентный бустинг деревьев"
      ]
    },
    {
      "cell_type": "markdown",
      "metadata": {
        "id": "fKpuBwx27X2n"
      },
      "source": [
        "### Важно! О формате сдачи\n",
        "\n",
        "* **Практически все выделенные задания из ноутбука оцениваются по системе <font color='red'>кросс-рецензирования</font>. Задания, в котором надо реализовать свой код и послать в систему, выделены здесь и в pdf отдельно**\n",
        "* **В этом ноутбуке есть задание на ML-решение**\n",
        "* **При решении ноутбука используйте данный шаблон. Не нужно удалять текстовые ячейки c разметкой частей ноутбука и формулировками заданий. Добавлять свои ячейки, при необходимости, конечно можно**\n",
        "* **Везде, где в формулровке задания есть какой-либо вопрос (или просьба вывода), необходимо прописать ответ в ячейку (код или markdown).**\n",
        "* **Наличие кода решения обязательно. Письменные ответы на вопросы без сопутствующего кода оцениваются в 0 баллов.**"
      ]
    },
    {
      "cell_type": "markdown",
      "metadata": {
        "id": "rESxzK807X2o"
      },
      "source": [
        "**А также..**\n",
        "\n",
        "Если в ячейке написана фраза \"Вывод\"/\"Ответ на вопрос\" итд, то ожидается ответ в виде текста (можете добавить ячейки с кодом, если считаете это необходимым, но это необязательно). Если в ячейке написано \"Your code here\", то ожидается ответ в виде кода (можете добавить ячейки с кодом, если считаете это необходимым, но это необязательно). Если есть и ячейка с фразой \"Вывод\", и ячейка с фразой \"Your code here\", то в ответе ожидается и код, и текст)"
      ]
    },
    {
      "cell_type": "markdown",
      "metadata": {
        "id": "baEqASDy7X2o"
      },
      "source": [
        "__В этом задании вы..:__\n",
        "\n",
        "- Познакомитесь с несколькими новыми библиотеками машинного обучения\n",
        "- Сравните между собой разные реализации градиентных бустингов\n",
        "- Примените все полученные знания для получения лучшего скора на датасете фильмов\n",
        "\n",
        "### *Примерное время выполнения (run all) всех ячеек ноутбука (без ML-решения): 60 минут*\n",
        "\n",
        "----------------------------------------------"
      ]
    },
    {
      "cell_type": "markdown",
      "metadata": {
        "id": "dGuTHcED7i4j"
      },
      "source": [
        "Немного магии, которую не надо менять, но надо выполнить перед каждым запуском!\n",
        "\n",
        "## Установка в Google Colab\n",
        "Если вы используете Google Colab, то вам достаточно установить библиотеки с помощью ячейки ниже.\n",
        "\n",
        "После установки нужных версий нажмите на кнопку `Restart runtime`, которая появится в следующей ячейке после завершения ее выполнения.\n",
        "\n",
        "После перезапуска (`Restart runtime`) устанавливать библиотеки еще раз не нужно, достаточно проверить, что установилась их новая версия.\n",
        "\n",
        "**Важно!**\n",
        "Устанавливать нужные версии нужно каждый раз, когда создается новый рантайм. Например, если вы 2 часа подряд делаете это задание, то подготовить библиотеки достаточно 1 раз. Но если вы, например, начали в понедельник, затем закрыли/выключили ноутбук, то при продолжении в среду, вам нужно будет запустить рантайм заново и следовательно заново установить библиотеки.\n",
        "\n",
        "**Обратите внимание, что установка `torch` и `tensorflow` через `pip` может сломать ваше окружение, особенно если вы используете GPU. Выполняйте их установку в соответствии с Вашей конфигурацией системы или в отдельном виртуальном окружении**\n",
        "\n",
        "Внимание! Ячейка перезапускает рантайм для учета обновления библиотек!\n",
        "\n",
        "Тот же файл ссылкой: https://drive.google.com/file/d/1emagLwrQrZoaitHvoRkp2ZOFNg0TsZdR/view?usp=share_link"
      ]
    },
    {
      "cell_type": "code",
      "execution_count": null,
      "metadata": {
        "id": "-gSWrzAD7iIq"
      },
      "outputs": [],
      "source": [
        "!pip install --upgrade --no-cache-dir gdown\n",
        "!gdown 1emagLwrQrZoaitHvoRkp2ZOFNg0TsZdR\n",
        "\n",
        "!pip install -r /content/requirements2.txt\n",
        "\n",
        "if 'google.colab' in str(get_ipython()):\n",
        "    import IPython, ipywidgets, google\n",
        "\n",
        "    button = ipywidgets.Button(\n",
        "        description='Нажмите, чтобы перезапустить Google Colab Runtime',\n",
        "        layout=ipywidgets.Layout(width='auto', height='40px')\n",
        "    )\n",
        "    button.on_click(lambda _: get_ipython().kernel.do_shutdown(True))\n",
        "    IPython.display.display(button)"
      ]
    },
    {
      "cell_type": "code",
      "source": [
        "import matplotlib\n",
        "assert(matplotlib.__version__ == '3.5.3')"
      ],
      "metadata": {
        "id": "Th8Xxd4aA-vC"
      },
      "execution_count": 2,
      "outputs": []
    },
    {
      "cell_type": "markdown",
      "metadata": {
        "id": "LvZ1zu1w7X2p"
      },
      "source": [
        "\n",
        "\n",
        "\n",
        "## Введение\n",
        "\n",
        "Привет, ребятушки!\n",
        "\n",
        "Сегодня мы с вами будем решать очень важную задачу, а именно оценивать цену подержанных автомобилей в ряде стран. Делать мы это будем с помощью различных методов градиентного бустинга. Мы с вами узнаем, что в мире существует не только sklearn, и что существуют библиотеки, облегчающие нам задачу поиска оптимальных параметров для моделей.\n",
        "\n",
        "**Внимание! Во всех заданиях в качестве целевой метрики используется MAE (средняя абсолютная ошибка).** Значение MAE вычисляется как\n",
        "\n",
        "$$\n",
        "  MAE = \\sum_{i = 1}^N\\dfrac{|a(x_i) - y_i|}{N},\n",
        "$$\n",
        "\n",
        "где $N$ - число объектов в тестовой выборке, $x_i$ - вектор признаков i-го объекта, $a(x_i)$ - предсказание на i-ом объекте, $y_i$ - значение целевого признака на i-м объекте."
      ]
    },
    {
      "cell_type": "markdown",
      "metadata": {
        "id": "KpN7nlaE7X2q"
      },
      "source": [
        "## Используемые библиотеки\n",
        "\n",
        "В этом задании нам понадобятся три бибиотеки, которыми вы ранее не пользовались в этом курсе, а именно:\n",
        "\n",
        "**XGBoost**: Документация [здесь](https://xgboost.readthedocs.io/en/stable/).<br />\n",
        "**LightGBM**: Документация [здесь](https://lightgbm.readthedocs.io/en/latest/index.html). Также дополнительно про установку [тут](https://pypi.org/project/lightgbm/).<br />\n",
        "**Catboost**: Документация [здесь](https://catboost.ai/en/docs/). Можно найти также некоторую информацию на русском [тут](https://habr.com/ru/company/otus/blog/527554/).<br />\n",
        "**HyperOpt**: Документация [здесь](http://hyperopt.github.io/hyperopt/). <br />\n",
        "\n",
        "Внимание! Вникать и подробно читать документацию к каждой библиотеке нет необходимости! Достаточно обращаться туда для нахождения примеров обучения.\n"
      ]
    },
    {
      "cell_type": "markdown",
      "metadata": {
        "id": "dyx8TlnM7X2q"
      },
      "source": [
        "## Как правильно перебирать параметры\n",
        "\n",
        "В этом ноутбуке мы будем несколько раз заниматься поиском оптимальных параметров для градиентного бустинга, перебирая задания по заданной сетке. В этом задании от Вас не будет требоваться найти самые лучшие параметры, но всё равно важно правильно составлять сетку для перебора. Для этого нужно понимать суть параметров и их смысл.\n",
        "\n",
        "\n",
        "\n",
        "**learning_rate** -- темп обучения нашего метода. Для этого метода сетка перебора должна быть логарифмической, т.е. перебирать порядковые значения (к примеру, [1e-3, 1e-2, 1e-1, 1]). В большинстве случаев достаточно перебрать значения от 1e-5 до 1.<br />\n",
        "**max_depth** -- максимальная глубина деревьев в ансамбле. Вообще говоря, эта величина зависит от числа признаков, но обычно лучше растить небольшие деревья. К примеру, библиотека CatBoost, которую мы будем исследовать сегодня, рекомендует перебирать значения до 10 (и уточняется, что обычно оптимальная глубина лежит от 6 до 10).<br />\n",
        "**n_estimators** -- количество деревьев в ансамбле. Обычно стоит перебирать с каким-то крупным шагом (можно по логарифмической сетке). Здесь важно найти баланс между производительностью, временем обучения и качеством. Обычно нескольких тысяч деревьев бывает достаточно.<br />\n",
        "\n",
        "Учтите, что в реальных задачах необходимо следить за тем, что оптимальные значения параметров не попадают на границы интервалов, т.е. что вы нашли хотя бы локальный минимум. Если Вы перебрали значения параметра от 1 до 10 и оказалось, что 10 - оптимальное значение, значит следует перебрать и бОльшие числа, чтобы убедиться, что качество не улучшается дальше (или по крайней мере убедиться, что рост качества сильно замедляется и на сильное улучшения рассчитывать не стоит.\n"
      ]
    },
    {
      "cell_type": "markdown",
      "metadata": {
        "id": "r3ZI8Zhn7X2r"
      },
      "source": [
        "## Подготовка датасета\n",
        "\n",
        "Все библиотеки, используемые сегодня, мы будем проверять на одних и тех же параметрах: n_estimators=1000, max_depth=5, learning_rate=0.1. Таким образом мы устанавливаем, соответственно, число деревьев в ансамбле равным 1000, ограничиваем максимальную глубину деревьев 5 и устанавливаем темп обучения равным 0.1. Создадим сразу словарь, чтобы передавать эти параметры создаваемым регрессорам (если вдруг не знали, словарь можно передавать как параметры, поставив перед ним **).\n",
        "\n",
        "Эти параметры мы вынесем в отдельную переменную `test_parameters`.\n",
        "\n",
        "При желании можно почитать про этот датасет на платформе kaggle: [ссылка на данные](https://www.kaggle.com/bushnag/cars-in-the-middle-east?select=dataframe_YesIndex_YesHeader_C.csv). <span style=\"color:red\"> <font color=\"red\">Не скачивайте датасет из kaggle для выполнения ноутбука, поскольку его могут изменить.</font></span> Нас интересует файл dataframe_YesIndex_YesHeader_C.csv, поскольку он уже хорошо предобработан (хотя, конечно, датасаентисты должны сами уметь это делать, но ладно).\n",
        "Давайте попробуем загрузить датасет в память и посмотреть, как он выглядит."
      ]
    },
    {
      "cell_type": "markdown",
      "source": [
        "При работе в google colab для скачивания датасета достаточно запустить следующую ячейку.\n",
        "\n",
        "При работе с ноутбуком <span style=\"color:red\"> <font color=\"red\">на локальном компьютере</font></span> Вы можете скачать файл по [этой ссылке](https://drive.google.com/file/d/1gdDv2kTCEkF3ia1vvbvRFJM0YfqmPplb/view?usp=sharing) и чуть ниже заменить ` /content/dataframe_YesIndex_YesHeader_C.csv` (в строке с `read_csv`) на ваш локальный путь до файла."
      ],
      "metadata": {
        "id": "SLNT0cZgY8cc"
      }
    },
    {
      "cell_type": "code",
      "source": [
        "# при локальном выполнении запускать эту ячейку НЕ НАДО\n",
        "!gdown 1gdDv2kTCEkF3ia1vvbvRFJM0YfqmPplb"
      ],
      "metadata": {
        "id": "sjbxX5-HY2e7"
      },
      "execution_count": null,
      "outputs": []
    },
    {
      "cell_type": "code",
      "execution_count": 32,
      "metadata": {
        "id": "fPWOU-rL7X2s"
      },
      "outputs": [],
      "source": [
        "%matplotlib inline\n",
        "from sklearn.ensemble import GradientBoostingRegressor\n",
        "from sklearn.model_selection import train_test_split, GridSearchCV, cross_val_score\n",
        "from sklearn.metrics import mean_absolute_error, make_scorer\n",
        "\n",
        "from hyperopt import hp, tpe, Trials, STATUS_OK\n",
        "from hyperopt.fmin import fmin\n",
        "from hyperopt.pyll import scope\n",
        "\n",
        "from xgboost import XGBRegressor\n",
        "\n",
        "from lightgbm import LGBMRegressor\n",
        "\n",
        "from catboost import CatBoostRegressor\n",
        "\n",
        "import matplotlib.pyplot as plt\n",
        "\n",
        "import pandas as pd\n",
        "\n",
        "import numpy as np\n",
        "\n",
        "import time"
      ]
    },
    {
      "cell_type": "code",
      "execution_count": 5,
      "metadata": {
        "id": "fHlskwJc7X2t",
        "colab": {
          "base_uri": "https://localhost:8080/",
          "height": 366
        },
        "outputId": "7e822ad2-67c4-409b-acf1-0158436f81f6"
      },
      "outputs": [
        {
          "output_type": "execute_result",
          "data": {
            "text/plain": [
              "   Engine Capacity  Cylinders  Drive Type  Fuel Tank Capacity  Fuel Economy  \\\n",
              "0              1.2          3           0                42.0           4.9   \n",
              "1              1.2          3           0                42.0           4.9   \n",
              "2              1.4          4           0                45.0           6.3   \n",
              "3              1.6          4           0                50.0           6.4   \n",
              "4              1.5          4           0                48.0           5.8   \n",
              "\n",
              "   Fuel Type  Horsepower  Torque  Transmission  Top Speed  ...  Acceleration  \\\n",
              "0          0          76   100.0             0        170  ...          14.0   \n",
              "1          0          76   100.0             0        170  ...          14.0   \n",
              "2          0          75   118.0             1        156  ...          16.0   \n",
              "3          0         102   145.0             0        180  ...          11.0   \n",
              "4          0         112   150.0             0        170  ...          10.9   \n",
              "\n",
              "   Length  Width  Height  Wheelbase  Trunk Capacity  \\\n",
              "0   4.245  1.670   1.515      2.550           450.0   \n",
              "1   4.245  1.670   1.515      2.550           450.0   \n",
              "2   3.864  1.716   1.721      2.513          2800.0   \n",
              "3   4.354  1.994   1.529      2.635           510.0   \n",
              "4   4.314  1.809   1.624      2.585           448.0   \n",
              "\n",
              "                                     name    price  currency  Country  \n",
              "0  Mitsubishi Attrage 2021 1.2 GLX (Base)  34099.0         0        0  \n",
              "1  Mitsubishi Attrage 2021 1.2 GLX (Base)  34099.0         0        0  \n",
              "2         Fiat Fiorino 2021 1.4L Standard  41250.0         0        0  \n",
              "3             Renault Symbol 2021 1.6L PE  44930.0         0        0  \n",
              "4                     MG ZS 2021 1.5L STD  57787.0         0        0  \n",
              "\n",
              "[5 rows x 21 columns]"
            ],
            "text/html": [
              "\n",
              "  <div id=\"df-d4408b23-4f24-4a65-b4f1-5939149f5c1c\">\n",
              "    <div class=\"colab-df-container\">\n",
              "      <div>\n",
              "<style scoped>\n",
              "    .dataframe tbody tr th:only-of-type {\n",
              "        vertical-align: middle;\n",
              "    }\n",
              "\n",
              "    .dataframe tbody tr th {\n",
              "        vertical-align: top;\n",
              "    }\n",
              "\n",
              "    .dataframe thead th {\n",
              "        text-align: right;\n",
              "    }\n",
              "</style>\n",
              "<table border=\"1\" class=\"dataframe\">\n",
              "  <thead>\n",
              "    <tr style=\"text-align: right;\">\n",
              "      <th></th>\n",
              "      <th>Engine Capacity</th>\n",
              "      <th>Cylinders</th>\n",
              "      <th>Drive Type</th>\n",
              "      <th>Fuel Tank Capacity</th>\n",
              "      <th>Fuel Economy</th>\n",
              "      <th>Fuel Type</th>\n",
              "      <th>Horsepower</th>\n",
              "      <th>Torque</th>\n",
              "      <th>Transmission</th>\n",
              "      <th>Top Speed</th>\n",
              "      <th>...</th>\n",
              "      <th>Acceleration</th>\n",
              "      <th>Length</th>\n",
              "      <th>Width</th>\n",
              "      <th>Height</th>\n",
              "      <th>Wheelbase</th>\n",
              "      <th>Trunk Capacity</th>\n",
              "      <th>name</th>\n",
              "      <th>price</th>\n",
              "      <th>currency</th>\n",
              "      <th>Country</th>\n",
              "    </tr>\n",
              "  </thead>\n",
              "  <tbody>\n",
              "    <tr>\n",
              "      <th>0</th>\n",
              "      <td>1.2</td>\n",
              "      <td>3</td>\n",
              "      <td>0</td>\n",
              "      <td>42.0</td>\n",
              "      <td>4.9</td>\n",
              "      <td>0</td>\n",
              "      <td>76</td>\n",
              "      <td>100.0</td>\n",
              "      <td>0</td>\n",
              "      <td>170</td>\n",
              "      <td>...</td>\n",
              "      <td>14.0</td>\n",
              "      <td>4.245</td>\n",
              "      <td>1.670</td>\n",
              "      <td>1.515</td>\n",
              "      <td>2.550</td>\n",
              "      <td>450.0</td>\n",
              "      <td>Mitsubishi Attrage 2021 1.2 GLX (Base)</td>\n",
              "      <td>34099.0</td>\n",
              "      <td>0</td>\n",
              "      <td>0</td>\n",
              "    </tr>\n",
              "    <tr>\n",
              "      <th>1</th>\n",
              "      <td>1.2</td>\n",
              "      <td>3</td>\n",
              "      <td>0</td>\n",
              "      <td>42.0</td>\n",
              "      <td>4.9</td>\n",
              "      <td>0</td>\n",
              "      <td>76</td>\n",
              "      <td>100.0</td>\n",
              "      <td>0</td>\n",
              "      <td>170</td>\n",
              "      <td>...</td>\n",
              "      <td>14.0</td>\n",
              "      <td>4.245</td>\n",
              "      <td>1.670</td>\n",
              "      <td>1.515</td>\n",
              "      <td>2.550</td>\n",
              "      <td>450.0</td>\n",
              "      <td>Mitsubishi Attrage 2021 1.2 GLX (Base)</td>\n",
              "      <td>34099.0</td>\n",
              "      <td>0</td>\n",
              "      <td>0</td>\n",
              "    </tr>\n",
              "    <tr>\n",
              "      <th>2</th>\n",
              "      <td>1.4</td>\n",
              "      <td>4</td>\n",
              "      <td>0</td>\n",
              "      <td>45.0</td>\n",
              "      <td>6.3</td>\n",
              "      <td>0</td>\n",
              "      <td>75</td>\n",
              "      <td>118.0</td>\n",
              "      <td>1</td>\n",
              "      <td>156</td>\n",
              "      <td>...</td>\n",
              "      <td>16.0</td>\n",
              "      <td>3.864</td>\n",
              "      <td>1.716</td>\n",
              "      <td>1.721</td>\n",
              "      <td>2.513</td>\n",
              "      <td>2800.0</td>\n",
              "      <td>Fiat Fiorino 2021 1.4L Standard</td>\n",
              "      <td>41250.0</td>\n",
              "      <td>0</td>\n",
              "      <td>0</td>\n",
              "    </tr>\n",
              "    <tr>\n",
              "      <th>3</th>\n",
              "      <td>1.6</td>\n",
              "      <td>4</td>\n",
              "      <td>0</td>\n",
              "      <td>50.0</td>\n",
              "      <td>6.4</td>\n",
              "      <td>0</td>\n",
              "      <td>102</td>\n",
              "      <td>145.0</td>\n",
              "      <td>0</td>\n",
              "      <td>180</td>\n",
              "      <td>...</td>\n",
              "      <td>11.0</td>\n",
              "      <td>4.354</td>\n",
              "      <td>1.994</td>\n",
              "      <td>1.529</td>\n",
              "      <td>2.635</td>\n",
              "      <td>510.0</td>\n",
              "      <td>Renault Symbol 2021 1.6L PE</td>\n",
              "      <td>44930.0</td>\n",
              "      <td>0</td>\n",
              "      <td>0</td>\n",
              "    </tr>\n",
              "    <tr>\n",
              "      <th>4</th>\n",
              "      <td>1.5</td>\n",
              "      <td>4</td>\n",
              "      <td>0</td>\n",
              "      <td>48.0</td>\n",
              "      <td>5.8</td>\n",
              "      <td>0</td>\n",
              "      <td>112</td>\n",
              "      <td>150.0</td>\n",
              "      <td>0</td>\n",
              "      <td>170</td>\n",
              "      <td>...</td>\n",
              "      <td>10.9</td>\n",
              "      <td>4.314</td>\n",
              "      <td>1.809</td>\n",
              "      <td>1.624</td>\n",
              "      <td>2.585</td>\n",
              "      <td>448.0</td>\n",
              "      <td>MG ZS 2021 1.5L STD</td>\n",
              "      <td>57787.0</td>\n",
              "      <td>0</td>\n",
              "      <td>0</td>\n",
              "    </tr>\n",
              "  </tbody>\n",
              "</table>\n",
              "<p>5 rows × 21 columns</p>\n",
              "</div>\n",
              "      <button class=\"colab-df-convert\" onclick=\"convertToInteractive('df-d4408b23-4f24-4a65-b4f1-5939149f5c1c')\"\n",
              "              title=\"Convert this dataframe to an interactive table.\"\n",
              "              style=\"display:none;\">\n",
              "        \n",
              "  <svg xmlns=\"http://www.w3.org/2000/svg\" height=\"24px\"viewBox=\"0 0 24 24\"\n",
              "       width=\"24px\">\n",
              "    <path d=\"M0 0h24v24H0V0z\" fill=\"none\"/>\n",
              "    <path d=\"M18.56 5.44l.94 2.06.94-2.06 2.06-.94-2.06-.94-.94-2.06-.94 2.06-2.06.94zm-11 1L8.5 8.5l.94-2.06 2.06-.94-2.06-.94L8.5 2.5l-.94 2.06-2.06.94zm10 10l.94 2.06.94-2.06 2.06-.94-2.06-.94-.94-2.06-.94 2.06-2.06.94z\"/><path d=\"M17.41 7.96l-1.37-1.37c-.4-.4-.92-.59-1.43-.59-.52 0-1.04.2-1.43.59L10.3 9.45l-7.72 7.72c-.78.78-.78 2.05 0 2.83L4 21.41c.39.39.9.59 1.41.59.51 0 1.02-.2 1.41-.59l7.78-7.78 2.81-2.81c.8-.78.8-2.07 0-2.86zM5.41 20L4 18.59l7.72-7.72 1.47 1.35L5.41 20z\"/>\n",
              "  </svg>\n",
              "      </button>\n",
              "      \n",
              "  <style>\n",
              "    .colab-df-container {\n",
              "      display:flex;\n",
              "      flex-wrap:wrap;\n",
              "      gap: 12px;\n",
              "    }\n",
              "\n",
              "    .colab-df-convert {\n",
              "      background-color: #E8F0FE;\n",
              "      border: none;\n",
              "      border-radius: 50%;\n",
              "      cursor: pointer;\n",
              "      display: none;\n",
              "      fill: #1967D2;\n",
              "      height: 32px;\n",
              "      padding: 0 0 0 0;\n",
              "      width: 32px;\n",
              "    }\n",
              "\n",
              "    .colab-df-convert:hover {\n",
              "      background-color: #E2EBFA;\n",
              "      box-shadow: 0px 1px 2px rgba(60, 64, 67, 0.3), 0px 1px 3px 1px rgba(60, 64, 67, 0.15);\n",
              "      fill: #174EA6;\n",
              "    }\n",
              "\n",
              "    [theme=dark] .colab-df-convert {\n",
              "      background-color: #3B4455;\n",
              "      fill: #D2E3FC;\n",
              "    }\n",
              "\n",
              "    [theme=dark] .colab-df-convert:hover {\n",
              "      background-color: #434B5C;\n",
              "      box-shadow: 0px 1px 3px 1px rgba(0, 0, 0, 0.15);\n",
              "      filter: drop-shadow(0px 1px 2px rgba(0, 0, 0, 0.3));\n",
              "      fill: #FFFFFF;\n",
              "    }\n",
              "  </style>\n",
              "\n",
              "      <script>\n",
              "        const buttonEl =\n",
              "          document.querySelector('#df-d4408b23-4f24-4a65-b4f1-5939149f5c1c button.colab-df-convert');\n",
              "        buttonEl.style.display =\n",
              "          google.colab.kernel.accessAllowed ? 'block' : 'none';\n",
              "\n",
              "        async function convertToInteractive(key) {\n",
              "          const element = document.querySelector('#df-d4408b23-4f24-4a65-b4f1-5939149f5c1c');\n",
              "          const dataTable =\n",
              "            await google.colab.kernel.invokeFunction('convertToInteractive',\n",
              "                                                     [key], {});\n",
              "          if (!dataTable) return;\n",
              "\n",
              "          const docLinkHtml = 'Like what you see? Visit the ' +\n",
              "            '<a target=\"_blank\" href=https://colab.research.google.com/notebooks/data_table.ipynb>data table notebook</a>'\n",
              "            + ' to learn more about interactive tables.';\n",
              "          element.innerHTML = '';\n",
              "          dataTable['output_type'] = 'display_data';\n",
              "          await google.colab.output.renderOutput(dataTable, element);\n",
              "          const docLink = document.createElement('div');\n",
              "          docLink.innerHTML = docLinkHtml;\n",
              "          element.appendChild(docLink);\n",
              "        }\n",
              "      </script>\n",
              "    </div>\n",
              "  </div>\n",
              "  "
            ]
          },
          "metadata": {},
          "execution_count": 5
        }
      ],
      "source": [
        "test_parameters = {\"n_estimators\": 1000, \"max_depth\": 5, \"learning_rate\":0.1}\n",
        "\n",
        "df = pd.read_csv('/content/dataframe_YesIndex_YesHeader_C.csv', index_col=0)\n",
        "df.head()"
      ]
    },
    {
      "cell_type": "code",
      "source": [
        "df.price.min(), df.price.max()"
      ],
      "metadata": {
        "colab": {
          "base_uri": "https://localhost:8080/"
        },
        "id": "x8IzKNT-Iosr",
        "outputId": "2dd23ad3-9e92-43a9-cf14-21ab6b5b4679"
      },
      "execution_count": 6,
      "outputs": [
        {
          "output_type": "execute_result",
          "data": {
            "text/plain": [
              "(2899.0, 10780000.0)"
            ]
          },
          "metadata": {},
          "execution_count": 6
        }
      ]
    },
    {
      "cell_type": "markdown",
      "metadata": {
        "id": "5zHhSc7L7X2u"
      },
      "source": [
        "### Задание 0 (без проверки, 0 баллов)\n",
        "\n",
        "Посмотрите на цены автомобилей. Попробуйте понять, написаны они в одной валюте или нет. Если нет -- будут ли у нас серьезные проблемы при использовании деревьев? Стоит ли нам что-то сделать для того, чтобы нивелировать эту проблему?\n"
      ]
    },
    {
      "cell_type": "markdown",
      "metadata": {
        "id": "cL_dLDNE7X2v"
      },
      "source": [
        "В глаза бросаются две проблемы: у нас имеется информация о производителе автомобиля, скрытая в текстовой переменной модели автомобиля (нет отдельного признака). Также имеются некоторые категориальные переменные. Со всем этим безобразием надо что-то сделать.\n",
        "\n",
        "### **Задание 1 (кросс-проверка, 3 балла)**\n",
        "**Данные**: датасет со стоимостью подержанных автомобилей  \n",
        "**Цели**: В данном задании следует выполнить следующие пункты (выполнять можно в любом порядке)\n",
        "1. Изучить датасет, проверить наличие пропусков. Под пропусками подразумевается значение N/A вместо признака. При необходимости заменить их на среднее значение признака.\n",
        "3. Добавить столбец brand с информацией о производителе автомобиля (для простоты можно взять первое слово в названии модели)\n",
        "4. Решить, какие признаки Вы хотите сделать категориальными. Конвертировать выбранные категориальные столбцы в тип category.\n",
        "5. Создать датасет А с категориальными признаками в виде категорий. Для этого необходимо создать вектор целевых значений (столбец цен автомобилей) и матрицу признаков с категориальными переменными, в которых все категориальные переменные поставлены в тип category (получается путем удаления только целевой переменной из матрицы с данными). Дополнительно стоит создать список с названиями и индексами столбцов категориальных переменных (поможет в будущем).\n",
        "6. Создать датасет B без категориальных признаков. Для этого необходимо создать вектор целевых значений (столбец цен автомобилей) и удалить из матрицы признаков столбец с целевыми переменными, а также все категориальные переменные.\n",
        "8. Создать датасет C с категориальными признаками в виде one-hot encoding. Для этого необходимо создать вектор целевых значений (столбец цен автомобилей), удалить из матрицы признаков столбец с целевыми переменными и все категориальными переменные, а затем добавить новые признаки, соответствующие one-hot encoding категориальных переменных (здесь вам поможет функция `pd.get_dummies`).\n",
        "9. Разбить датасеты на тренировочное и тестовое множества, используя `train_test_split(X, y, test_size=0.25, random_state=0)` (зафиксировав random_seed мы получим одинаковое разбиение на обучение/тест для всех трёх выборок)."
      ]
    },
    {
      "cell_type": "code",
      "source": [
        "# проверка наличия пропусков (пропусков нет)\n",
        "assert df.isna().any().sum() == 0\n",
        "\n",
        "# добавляем столбец brand\n",
        "df[\"brand\"] = df.name.apply(lambda x : x.split()[0].strip())\n",
        "\n",
        "# сделать категориальными Cylinders, Drive Type, Fuel Type, Transmission,\n",
        "# Seating Capacity, currency, Country, name, brand\n",
        "columns_category = [\"Cylinders\", \"Drive Type\", \"Fuel Type\", \"Transmission\",\n",
        "                     \"Seating Capacity\", \"currency\", \"Country\", \"name\", \"brand\"]\n",
        "df[columns_category] = df[columns_category].astype(\"category\")\n",
        "\n",
        "# создаем датафрейм A\n",
        "A = df.drop(columns=\"price\")\n",
        "\n",
        "# созлдаем датафрейм В\n",
        "B = df.drop(columns=(columns_category + [\"price\"]))\n",
        "\n",
        "# создаем датафрей С\n",
        "C = pd.get_dummies(df, columns=columns_category).drop(columns=[\"price\"])\n",
        "\n",
        "# разбиваем датасеты\n",
        "X_train_A, X_test_A, y_train_A, y_test_A = train_test_split(A, df.price,\n",
        "                                                            test_size=0.25,\n",
        "                                                            random_state=0)\n",
        "X_train_B, X_test_B, y_train_B, y_test_B = train_test_split(B, df.price,\n",
        "                                                            test_size=0.25,\n",
        "                                                            random_state=0)\n",
        "X_train_C, X_test_C, y_train_C, y_test_C = train_test_split(C, df.price,\n",
        "                                                            test_size=0.25,\n",
        "                                                            random_state=0)"
      ],
      "metadata": {
        "id": "13_H2436IynR"
      },
      "execution_count": 7,
      "outputs": []
    },
    {
      "cell_type": "markdown",
      "metadata": {
        "id": "lAglhMiy7X2v"
      },
      "source": [
        "Итак, кажется, что у нас всё готово для того, чтобы начать искать ответы на волнующие нас вопросы. Начнем со столь любимой нами библиотеки, а именно...\n",
        "\n",
        "## Градиентный бустинг со sklearn\n",
        "\n",
        "Естественно, в sklearn имеется реализация градиентного бустинга, которая хранится в sklearn.ensemble.GradientBoostingRegressor. Преимущественно данным классом пользуются в учебных заданиях, а в реальных задачах предпочтение отдаётся другим библиотекам. Давайте попробуем понять, заслуженно ли градиентный бустинг в sklearn не пользуется популярностью.\n",
        "\n",
        "FYI: в sklearn имеется также реализация GradientBoostingClassifier для задач классификации, но пользоваться им мы сегодня не будем.\n",
        "\n",
        "GradientBoostingRegressor из коробки не умеет работать с категориальными признаками. Мы к этому уже подготовились, закодировав наши признаки.\n",
        "\n",
        "### **Задание 2 (кросс-проверка, 1 балл)**:\n",
        "\n",
        "**Данные**: датасет со стоимостью подержанных автомобилей    \n",
        "**Метрика**: MAE    \n",
        "**Цели**: В данном задании следует выполнить следующие пункты:    \n",
        "1. Обучить sklearn.ensemble.GradientBoostingRegressor на датасетах B и C (получится два разных регрессора), используя параметры n_estimators=1000, max_depth=5, learning_rate=0.1 (наши `test_parameters`). Замерить время обучения.\n",
        "2. Посчитать MAE для предсказаний на соответствующих тренировочном и тестовом множествах (можно воспользоваться sklearn.metrics.mean_absolute_error). Замерить время предсказания.\n",
        "3. Вывести в таблице DataFrame результаты о времени обучения, времени предсказания, MAE на тренировочном и тестовом множествах.\n",
        "4. Сделайте выводы. Оцените полезность категориальных переменных. Оцените время, затраченное на обучение. Попробуйте дать оценку получившемуся MAE: оно большое или маленькое?\n"
      ]
    },
    {
      "cell_type": "code",
      "source": [
        "GBR_B = GradientBoostingRegressor(**test_parameters)\n",
        "GBR_C = GradientBoostingRegressor(**test_parameters)"
      ],
      "metadata": {
        "id": "TL347ujUI3o8"
      },
      "execution_count": 8,
      "outputs": []
    },
    {
      "cell_type": "code",
      "source": [
        "start_time = time.time()\n",
        "GBR_B.fit(X_train_B, y_train_B)\n",
        "B_fit_time_GBR = np.round(time.time() - start_time)\n",
        "\n",
        "start_time = time.time()\n",
        "GBR_C.fit(X_train_C, y_train_C)\n",
        "C_fit_time_GBR = np.round(time.time() - start_time)"
      ],
      "metadata": {
        "id": "O5T_rPN5I6hO"
      },
      "execution_count": 9,
      "outputs": []
    },
    {
      "cell_type": "code",
      "source": [
        "start_time = time.time()\n",
        "predict_B = GBR_B.predict(X_test_B)\n",
        "B_predict_time_GBR = np.round(time.time() - start_time, 2)\n",
        "\n",
        "start_time = time.time()\n",
        "predict_C = GBR_C.predict(X_test_C)\n",
        "C_predict_time_GBR = np.round(time.time() - start_time, 2)\n",
        "\n",
        "B_MAE_test_GBR = np.round(mean_absolute_error(y_test_B, predict_B))\n",
        "C_MAE_test_GBR = np.round(mean_absolute_error(y_test_C, predict_C))\n",
        "\n",
        "predict_B = GBR_B.predict(X_train_B)\n",
        "predict_C = GBR_C.predict(X_train_C)\n",
        "B_MAE_train_GBR = np.round(mean_absolute_error(y_train_B, predict_B))\n",
        "C_MAE_train_GBR = np.round(mean_absolute_error(y_train_C, predict_C))"
      ],
      "metadata": {
        "id": "zSvPtIgNI9An"
      },
      "execution_count": 10,
      "outputs": []
    },
    {
      "cell_type": "code",
      "source": [
        "row1_GBR = [\"sklearn\", \"B\", B_fit_time_GBR, B_predict_time_GBR, B_MAE_train_GBR, B_MAE_test_GBR]\n",
        "row2_GBR = [\"sklearn\", \"C\", C_fit_time_GBR, C_predict_time_GBR, C_MAE_train_GBR, C_MAE_test_GBR]\n",
        "columns=['Method', 'Dataset', 'Training time', 'Prediction time', 'Train MAE', 'Test MAE']\n",
        "df_skl = pd.DataFrame([row1_GBR, row2_GBR], columns=columns)\n",
        "df_skl"
      ],
      "metadata": {
        "colab": {
          "base_uri": "https://localhost:8080/",
          "height": 112
        },
        "id": "TGYPKtRZI_e_",
        "outputId": "bf7687d8-4c03-4264-bf7f-a411a000bb59"
      },
      "execution_count": 11,
      "outputs": [
        {
          "output_type": "execute_result",
          "data": {
            "text/plain": [
              "    Method Dataset  Training time  Prediction time  Train MAE  Test MAE\n",
              "0  sklearn       B           22.0             0.12    92000.0  123459.0\n",
              "1  sklearn       C          194.0             0.53     8613.0   21793.0"
            ],
            "text/html": [
              "\n",
              "  <div id=\"df-b7c6de41-c119-4027-99db-f509ce79743a\">\n",
              "    <div class=\"colab-df-container\">\n",
              "      <div>\n",
              "<style scoped>\n",
              "    .dataframe tbody tr th:only-of-type {\n",
              "        vertical-align: middle;\n",
              "    }\n",
              "\n",
              "    .dataframe tbody tr th {\n",
              "        vertical-align: top;\n",
              "    }\n",
              "\n",
              "    .dataframe thead th {\n",
              "        text-align: right;\n",
              "    }\n",
              "</style>\n",
              "<table border=\"1\" class=\"dataframe\">\n",
              "  <thead>\n",
              "    <tr style=\"text-align: right;\">\n",
              "      <th></th>\n",
              "      <th>Method</th>\n",
              "      <th>Dataset</th>\n",
              "      <th>Training time</th>\n",
              "      <th>Prediction time</th>\n",
              "      <th>Train MAE</th>\n",
              "      <th>Test MAE</th>\n",
              "    </tr>\n",
              "  </thead>\n",
              "  <tbody>\n",
              "    <tr>\n",
              "      <th>0</th>\n",
              "      <td>sklearn</td>\n",
              "      <td>B</td>\n",
              "      <td>22.0</td>\n",
              "      <td>0.12</td>\n",
              "      <td>92000.0</td>\n",
              "      <td>123459.0</td>\n",
              "    </tr>\n",
              "    <tr>\n",
              "      <th>1</th>\n",
              "      <td>sklearn</td>\n",
              "      <td>C</td>\n",
              "      <td>194.0</td>\n",
              "      <td>0.53</td>\n",
              "      <td>8613.0</td>\n",
              "      <td>21793.0</td>\n",
              "    </tr>\n",
              "  </tbody>\n",
              "</table>\n",
              "</div>\n",
              "      <button class=\"colab-df-convert\" onclick=\"convertToInteractive('df-b7c6de41-c119-4027-99db-f509ce79743a')\"\n",
              "              title=\"Convert this dataframe to an interactive table.\"\n",
              "              style=\"display:none;\">\n",
              "        \n",
              "  <svg xmlns=\"http://www.w3.org/2000/svg\" height=\"24px\"viewBox=\"0 0 24 24\"\n",
              "       width=\"24px\">\n",
              "    <path d=\"M0 0h24v24H0V0z\" fill=\"none\"/>\n",
              "    <path d=\"M18.56 5.44l.94 2.06.94-2.06 2.06-.94-2.06-.94-.94-2.06-.94 2.06-2.06.94zm-11 1L8.5 8.5l.94-2.06 2.06-.94-2.06-.94L8.5 2.5l-.94 2.06-2.06.94zm10 10l.94 2.06.94-2.06 2.06-.94-2.06-.94-.94-2.06-.94 2.06-2.06.94z\"/><path d=\"M17.41 7.96l-1.37-1.37c-.4-.4-.92-.59-1.43-.59-.52 0-1.04.2-1.43.59L10.3 9.45l-7.72 7.72c-.78.78-.78 2.05 0 2.83L4 21.41c.39.39.9.59 1.41.59.51 0 1.02-.2 1.41-.59l7.78-7.78 2.81-2.81c.8-.78.8-2.07 0-2.86zM5.41 20L4 18.59l7.72-7.72 1.47 1.35L5.41 20z\"/>\n",
              "  </svg>\n",
              "      </button>\n",
              "      \n",
              "  <style>\n",
              "    .colab-df-container {\n",
              "      display:flex;\n",
              "      flex-wrap:wrap;\n",
              "      gap: 12px;\n",
              "    }\n",
              "\n",
              "    .colab-df-convert {\n",
              "      background-color: #E8F0FE;\n",
              "      border: none;\n",
              "      border-radius: 50%;\n",
              "      cursor: pointer;\n",
              "      display: none;\n",
              "      fill: #1967D2;\n",
              "      height: 32px;\n",
              "      padding: 0 0 0 0;\n",
              "      width: 32px;\n",
              "    }\n",
              "\n",
              "    .colab-df-convert:hover {\n",
              "      background-color: #E2EBFA;\n",
              "      box-shadow: 0px 1px 2px rgba(60, 64, 67, 0.3), 0px 1px 3px 1px rgba(60, 64, 67, 0.15);\n",
              "      fill: #174EA6;\n",
              "    }\n",
              "\n",
              "    [theme=dark] .colab-df-convert {\n",
              "      background-color: #3B4455;\n",
              "      fill: #D2E3FC;\n",
              "    }\n",
              "\n",
              "    [theme=dark] .colab-df-convert:hover {\n",
              "      background-color: #434B5C;\n",
              "      box-shadow: 0px 1px 3px 1px rgba(0, 0, 0, 0.15);\n",
              "      filter: drop-shadow(0px 1px 2px rgba(0, 0, 0, 0.3));\n",
              "      fill: #FFFFFF;\n",
              "    }\n",
              "  </style>\n",
              "\n",
              "      <script>\n",
              "        const buttonEl =\n",
              "          document.querySelector('#df-b7c6de41-c119-4027-99db-f509ce79743a button.colab-df-convert');\n",
              "        buttonEl.style.display =\n",
              "          google.colab.kernel.accessAllowed ? 'block' : 'none';\n",
              "\n",
              "        async function convertToInteractive(key) {\n",
              "          const element = document.querySelector('#df-b7c6de41-c119-4027-99db-f509ce79743a');\n",
              "          const dataTable =\n",
              "            await google.colab.kernel.invokeFunction('convertToInteractive',\n",
              "                                                     [key], {});\n",
              "          if (!dataTable) return;\n",
              "\n",
              "          const docLinkHtml = 'Like what you see? Visit the ' +\n",
              "            '<a target=\"_blank\" href=https://colab.research.google.com/notebooks/data_table.ipynb>data table notebook</a>'\n",
              "            + ' to learn more about interactive tables.';\n",
              "          element.innerHTML = '';\n",
              "          dataTable['output_type'] = 'display_data';\n",
              "          await google.colab.output.renderOutput(dataTable, element);\n",
              "          const docLink = document.createElement('div');\n",
              "          docLink.innerHTML = docLinkHtml;\n",
              "          element.appendChild(docLink);\n",
              "        }\n",
              "      </script>\n",
              "    </div>\n",
              "  </div>\n",
              "  "
            ]
          },
          "metadata": {},
          "execution_count": 11
        }
      ]
    },
    {
      "cell_type": "markdown",
      "metadata": {
        "id": "JvHOfYnF7X2w"
      },
      "source": [
        "**Ваши выводы:**\n",
        "\n",
        "* Категориальные переменные полезны, по ним модель лучше понимает закономерности в данных\n",
        "* `МАЕ` на `С` лучше, так как цена автомобиля измерятся в основном в сотнях тысяч, на первом датасете `МАЕ` очень большое\n",
        "* `OneHotEncoding` дало существенную прибавку качества\n"
      ]
    },
    {
      "cell_type": "markdown",
      "metadata": {
        "id": "C8QeRXCp7X2x"
      },
      "source": [
        "И так, sklearn предлагает нам привычный и простой способ тренировки моделей. Однако, для градиентного бустинга существует множество эвристик и трюков, помогающих улучшить результаты. И одна из библиотек, реализующая улучшенную версию бустинга, называется xgboost.\n",
        "\n",
        "## Градиентный бустинг с XGBoost\n",
        "\n",
        "XGBoost стала достаточно популярной библиотекой, которая позволяет добиться хороших результатов без особых усилий (во всяком случае, так гласят легенды). И у нас для вас две новости: хорошая и плохая. Хорошая – xgboost, хоть и является сторонней библиотекой, сохраняет интерфейс sklearn. Плохая – она тоже не умеет из коробки работать с категориальными признаками. Ну что же, давайте пощупаем это безобразие. На этот раз нас интересует класс xgboost.XGBRegressor.\n",
        "\n",
        "Daily Fact: на самом деле в xgboost есть экспериментальная поддержка категориальных переменных, которая еще не добавлена в стабильную версию, поэтому ею мы пользоваться не будем.\n",
        "\n",
        "### Задание 3 (кросс-проверка, 1 балл):\n",
        "**Данные**: датасет со стоимостью подержанных автомобилей  \n",
        "**Метрика**: MAE  \n",
        "**Цели**: В данном задании следует выполнить следующие пункты:  \n",
        "1. Обучить xgboost.XGBRegressor на датасетах B и C, используя параметры n_estimators=1000, max_depth=5, learning_rate=0.1 (наши `test_parameters`). Замерить время обучения.\n",
        "2. Посчитать MAE для полученных предсказаний на соответствующих тренировочном и тестовом множествах (можно воспользоваться sklearn.metrics.mean_absolute_error). Замерить время предсказания\n",
        "3. Вывести в таблице DataFrame результаты о времени обучения, времени предсказания, MAE на тренировочном и тестовом множествах.\n",
        "4. Сделайте выводы. Оцените время, затраченное на обучение, сравните с sklearn.\n"
      ]
    },
    {
      "cell_type": "code",
      "execution_count": 13,
      "metadata": {
        "id": "r6QC92oz7X2x"
      },
      "outputs": [],
      "source": [
        "XGB_B = XGBRegressor(**test_parameters)\n",
        "XGB_C = XGBRegressor(**test_parameters)\n",
        "\n",
        "start_time = time.time()\n",
        "XGB_B.fit(X_train_B, y_train_B)\n",
        "B_fit_time_XGB = np.round(time.time() - start_time)\n",
        "\n",
        "start_time = time.time()\n",
        "XGB_C.fit(X_train_C, y_train_C)\n",
        "C_fit_time_XGB = np.round(time.time() - start_time)\n",
        "\n",
        "start_time = time.time()\n",
        "predict_B = XGB_B.predict(X_test_B)\n",
        "B_predict_time_XGB = np.round(time.time() - start_time, 2)\n",
        "\n",
        "start_time = time.time()\n",
        "predict_C = XGB_C.predict(X_test_C)\n",
        "C_predict_time_XGB = np.round(time.time() - start_time, 2)\n",
        "\n",
        "B_MAE_test_XGB = np.round(mean_absolute_error(y_test_B, predict_B))\n",
        "C_MAE_test_XGB = np.round(mean_absolute_error(y_test_C, predict_C))\n",
        "\n",
        "predict_B = XGB_B.predict(X_train_B)\n",
        "predict_C = XGB_C.predict(X_train_C)\n",
        "B_MAE_train_XGB = np.round(mean_absolute_error(y_train_B, predict_B))\n",
        "C_MAE_train_XGB = np.round(mean_absolute_error(y_train_C, predict_C))"
      ]
    },
    {
      "cell_type": "code",
      "source": [
        "row1_XGB = [\"XGBoost\", \"B\", B_fit_time_XGB, B_predict_time_XGB, B_MAE_train_XGB, B_MAE_test_XGB]\n",
        "row2_XGB = [\"XGBoost\", \"C\", C_fit_time_XGB, C_predict_time_XGB, C_MAE_train_XGB, C_MAE_test_XGB]\n",
        "columns=['Method', 'Dataset', 'Training time', 'Prediction time', 'Train MAE', 'Test MAE']\n",
        "df_xgb = pd.DataFrame([row1_XGB, row2_XGB], columns=columns)\n",
        "df_xgb"
      ],
      "metadata": {
        "colab": {
          "base_uri": "https://localhost:8080/",
          "height": 112
        },
        "id": "AV0G3HP-JQzQ",
        "outputId": "ffa33109-11c4-467f-8af6-edf3711e5ed6"
      },
      "execution_count": 15,
      "outputs": [
        {
          "output_type": "execute_result",
          "data": {
            "text/plain": [
              "    Method Dataset  Training time  Prediction time  Train MAE  Test MAE\n",
              "0  XGBoost       B           13.0             0.10    92415.0  123037.0\n",
              "1  XGBoost       C          360.0             0.26    10799.0   22433.0"
            ],
            "text/html": [
              "\n",
              "  <div id=\"df-72b0a075-9967-4e23-afc2-824ee5f09f13\">\n",
              "    <div class=\"colab-df-container\">\n",
              "      <div>\n",
              "<style scoped>\n",
              "    .dataframe tbody tr th:only-of-type {\n",
              "        vertical-align: middle;\n",
              "    }\n",
              "\n",
              "    .dataframe tbody tr th {\n",
              "        vertical-align: top;\n",
              "    }\n",
              "\n",
              "    .dataframe thead th {\n",
              "        text-align: right;\n",
              "    }\n",
              "</style>\n",
              "<table border=\"1\" class=\"dataframe\">\n",
              "  <thead>\n",
              "    <tr style=\"text-align: right;\">\n",
              "      <th></th>\n",
              "      <th>Method</th>\n",
              "      <th>Dataset</th>\n",
              "      <th>Training time</th>\n",
              "      <th>Prediction time</th>\n",
              "      <th>Train MAE</th>\n",
              "      <th>Test MAE</th>\n",
              "    </tr>\n",
              "  </thead>\n",
              "  <tbody>\n",
              "    <tr>\n",
              "      <th>0</th>\n",
              "      <td>XGBoost</td>\n",
              "      <td>B</td>\n",
              "      <td>13.0</td>\n",
              "      <td>0.10</td>\n",
              "      <td>92415.0</td>\n",
              "      <td>123037.0</td>\n",
              "    </tr>\n",
              "    <tr>\n",
              "      <th>1</th>\n",
              "      <td>XGBoost</td>\n",
              "      <td>C</td>\n",
              "      <td>360.0</td>\n",
              "      <td>0.26</td>\n",
              "      <td>10799.0</td>\n",
              "      <td>22433.0</td>\n",
              "    </tr>\n",
              "  </tbody>\n",
              "</table>\n",
              "</div>\n",
              "      <button class=\"colab-df-convert\" onclick=\"convertToInteractive('df-72b0a075-9967-4e23-afc2-824ee5f09f13')\"\n",
              "              title=\"Convert this dataframe to an interactive table.\"\n",
              "              style=\"display:none;\">\n",
              "        \n",
              "  <svg xmlns=\"http://www.w3.org/2000/svg\" height=\"24px\"viewBox=\"0 0 24 24\"\n",
              "       width=\"24px\">\n",
              "    <path d=\"M0 0h24v24H0V0z\" fill=\"none\"/>\n",
              "    <path d=\"M18.56 5.44l.94 2.06.94-2.06 2.06-.94-2.06-.94-.94-2.06-.94 2.06-2.06.94zm-11 1L8.5 8.5l.94-2.06 2.06-.94-2.06-.94L8.5 2.5l-.94 2.06-2.06.94zm10 10l.94 2.06.94-2.06 2.06-.94-2.06-.94-.94-2.06-.94 2.06-2.06.94z\"/><path d=\"M17.41 7.96l-1.37-1.37c-.4-.4-.92-.59-1.43-.59-.52 0-1.04.2-1.43.59L10.3 9.45l-7.72 7.72c-.78.78-.78 2.05 0 2.83L4 21.41c.39.39.9.59 1.41.59.51 0 1.02-.2 1.41-.59l7.78-7.78 2.81-2.81c.8-.78.8-2.07 0-2.86zM5.41 20L4 18.59l7.72-7.72 1.47 1.35L5.41 20z\"/>\n",
              "  </svg>\n",
              "      </button>\n",
              "      \n",
              "  <style>\n",
              "    .colab-df-container {\n",
              "      display:flex;\n",
              "      flex-wrap:wrap;\n",
              "      gap: 12px;\n",
              "    }\n",
              "\n",
              "    .colab-df-convert {\n",
              "      background-color: #E8F0FE;\n",
              "      border: none;\n",
              "      border-radius: 50%;\n",
              "      cursor: pointer;\n",
              "      display: none;\n",
              "      fill: #1967D2;\n",
              "      height: 32px;\n",
              "      padding: 0 0 0 0;\n",
              "      width: 32px;\n",
              "    }\n",
              "\n",
              "    .colab-df-convert:hover {\n",
              "      background-color: #E2EBFA;\n",
              "      box-shadow: 0px 1px 2px rgba(60, 64, 67, 0.3), 0px 1px 3px 1px rgba(60, 64, 67, 0.15);\n",
              "      fill: #174EA6;\n",
              "    }\n",
              "\n",
              "    [theme=dark] .colab-df-convert {\n",
              "      background-color: #3B4455;\n",
              "      fill: #D2E3FC;\n",
              "    }\n",
              "\n",
              "    [theme=dark] .colab-df-convert:hover {\n",
              "      background-color: #434B5C;\n",
              "      box-shadow: 0px 1px 3px 1px rgba(0, 0, 0, 0.15);\n",
              "      filter: drop-shadow(0px 1px 2px rgba(0, 0, 0, 0.3));\n",
              "      fill: #FFFFFF;\n",
              "    }\n",
              "  </style>\n",
              "\n",
              "      <script>\n",
              "        const buttonEl =\n",
              "          document.querySelector('#df-72b0a075-9967-4e23-afc2-824ee5f09f13 button.colab-df-convert');\n",
              "        buttonEl.style.display =\n",
              "          google.colab.kernel.accessAllowed ? 'block' : 'none';\n",
              "\n",
              "        async function convertToInteractive(key) {\n",
              "          const element = document.querySelector('#df-72b0a075-9967-4e23-afc2-824ee5f09f13');\n",
              "          const dataTable =\n",
              "            await google.colab.kernel.invokeFunction('convertToInteractive',\n",
              "                                                     [key], {});\n",
              "          if (!dataTable) return;\n",
              "\n",
              "          const docLinkHtml = 'Like what you see? Visit the ' +\n",
              "            '<a target=\"_blank\" href=https://colab.research.google.com/notebooks/data_table.ipynb>data table notebook</a>'\n",
              "            + ' to learn more about interactive tables.';\n",
              "          element.innerHTML = '';\n",
              "          dataTable['output_type'] = 'display_data';\n",
              "          await google.colab.output.renderOutput(dataTable, element);\n",
              "          const docLink = document.createElement('div');\n",
              "          docLink.innerHTML = docLinkHtml;\n",
              "          element.appendChild(docLink);\n",
              "        }\n",
              "      </script>\n",
              "    </div>\n",
              "  </div>\n",
              "  "
            ]
          },
          "metadata": {},
          "execution_count": 15
        }
      ]
    },
    {
      "cell_type": "markdown",
      "metadata": {
        "id": "P59a_ZM77X2x"
      },
      "source": [
        "**Ваши выводы:**\n",
        "\n",
        "*  Опять видим, что `OneHotEncoding` сильно уличшил показатели. На датасете `В` посчитали с большой ошибкой, но зато быстро)\n",
        "*  Время почти не изменилось по сравнению с `sklearn`, но стало чуть больше.\n",
        "*  Ошибка на тесте чуть уменьшилась для датасета `С`\n"
      ]
    },
    {
      "cell_type": "markdown",
      "metadata": {
        "id": "7HwJK-fN7X2x"
      },
      "source": [
        "Таким вот несложным образом нам удалось воспользоваться еще одной библиотекой. Давайте перейдем к третьей библиотеке, которую мы сегодня изучим, и называется она lightgbm.\n",
        "\n",
        "## Градиентный бустинг в lightgbm\n",
        "\n",
        "Про Lightgbm легенды гласят, что она очень быстрая и легкая: что самый большой датасет она без проблем переварит за относительно небольшое время. А еще её разрабатывали не хухры кто, а сами мелкомягкие, так что попробовать её определённо стоит. На этот раз у нас вновь две новости, две хороших и две плохих. Первая хорошая — lightgbm тоже похож на sklearn. Вторая хорошая — lightgbm умеет из коробки работать с категориальными признаками! Плохая — делает она это немного нетривиально (не зря я просил вас запомнить категориальные переменные!). Вторая плохая — да, нам придётся этим пользоваться для выполнения задания.\n",
        "\n",
        "Внимание! LightGBM может писать сотню радостных сообщений о том, что он увидел ваши categorical_feature и использует их. При желании можете заглушать эти оповещения, ибо в случае перебора параметров их становится слишком много. (заклинание для заглушения: `warnings.filterwarnings(\"ignore\")`)\n",
        "\n",
        "### Задание 4 (кросс-проверка, 2 балла):\n",
        "**Данные**: датасет со стоимостью подержанных автомобилей  \n",
        "**Метрика**: MAE  \n",
        "**Цели**: В данном задании следует выполнить следующие пункты:  \n",
        "1. В случае датасета, сохраненном в numpy, lightgbm требует, чтобы категории были закодированы целыми числами от 0 до числа признаков(e.g. ['a', 'b', 'a'] -> [0, 1, 0]). Сделайте это для датасета A. Если вы используете pandas, то для датасета A достаточно установить соответствующие столбцы типа \"категория\", тогда categorical_feature='auto' сам всё подхватит.\n",
        "2. Обучить lightgbm.LGBMRegressor на датасетах A, B и C, используя параметры n_estimators=1000, max_depth=5, learning_rate=0.1. В случае датасета A, передайте в функцию fit индексы/имена категориальных признаков. Замерить время обучения.\n",
        "4. Посчитать MAE для полученных предсказаний на соответствующих тренировочном и тестовом множествах (можно воспользоваться sklearn.metrics.mean_absolute_error). Сделайте выводы о полезности использования категориальных переменных и времени обучения.\n",
        "5. Вывести результаты и время в таблице DataFrame."
      ]
    },
    {
      "cell_type": "code",
      "execution_count": 16,
      "metadata": {
        "id": "lTrS59HN7X2y"
      },
      "outputs": [],
      "source": [
        "import warnings\n",
        "warnings.filterwarnings(\"ignore\")\n",
        "\n",
        "LGBM_A = LGBMRegressor(**test_parameters)\n",
        "LGBM_B = LGBMRegressor(**test_parameters)\n",
        "LGBM_C = LGBMRegressor(**test_parameters)\n",
        "\n",
        "# A train\n",
        "start_time = time.time()\n",
        "LGBM_A.fit(X_train_A, y_train_A, categorical_feature=columns_category)\n",
        "A_fit_time_LGBM = np.round(time.time() - start_time)\n",
        "\n",
        "# B train\n",
        "start_time = time.time()\n",
        "LGBM_B.fit(X_train_B, y_train_B)\n",
        "B_fit_time_LGBM = np.round(time.time() - start_time)\n",
        "\n",
        "# C train\n",
        "start_time = time.time()\n",
        "LGBM_C.fit(X_train_C, y_train_C)\n",
        "C_fit_time_LGBM = np.round(time.time() - start_time)\n",
        "\n",
        "# A test\n",
        "start_time = time.time()\n",
        "predict_A = LGBM_A.predict(X_test_A)\n",
        "A_predict_time_LGBM = np.round(time.time() - start_time, 2)\n",
        "\n",
        "# B test\n",
        "start_time = time.time()\n",
        "predict_B = LGBM_B.predict(X_test_B)\n",
        "B_predict_time_LGBM = np.round(time.time() - start_time, 2)\n",
        "\n",
        "# C test\n",
        "start_time = time.time()\n",
        "predict_C = LGBM_C.predict(X_test_C)\n",
        "C_predict_time_LGBM = np.round(time.time() - start_time, 2)\n",
        "\n",
        "# MAE test\n",
        "A_MAE_test_LGBM = np.round(mean_absolute_error(y_test_A, predict_A))\n",
        "B_MAE_test_LGBM = np.round(mean_absolute_error(y_test_B, predict_B))\n",
        "C_MAE_test_LGBM = np.round(mean_absolute_error(y_test_C, predict_C))\n",
        "\n",
        "predict_A = LGBM_A.predict(X_train_A)\n",
        "predict_B = LGBM_B.predict(X_train_B)\n",
        "predict_C = LGBM_C.predict(X_train_C)\n",
        "\n",
        "# MAE train\n",
        "A_MAE_train_LGBM = np.round(mean_absolute_error(y_train_A, predict_A))\n",
        "B_MAE_train_LGBM = np.round(mean_absolute_error(y_train_B, predict_B))\n",
        "C_MAE_train_LGBM = np.round(mean_absolute_error(y_train_C, predict_C))"
      ]
    },
    {
      "cell_type": "code",
      "source": [
        "row0_LGBM = [\"lightgbm\", \"A\", A_fit_time_LGBM, A_predict_time_LGBM, A_MAE_train_LGBM, A_MAE_test_LGBM]\n",
        "row1_LGBM = [\"lightgbm\", \"B\", B_fit_time_LGBM, B_predict_time_LGBM, B_MAE_train_LGBM, B_MAE_test_LGBM]\n",
        "row2_LGBM = [\"lightgbm\", \"C\", C_fit_time_LGBM, C_predict_time_LGBM, C_MAE_train_LGBM, C_MAE_test_LGBM]\n",
        "columns=['Method', 'Dataset', 'Training time', 'Prediction time', 'Train MAE', 'Test MAE']\n",
        "df_lightgbm = pd.DataFrame([row0_LGBM, row1_LGBM, row2_LGBM], columns=columns)\n",
        "df_lightgbm"
      ],
      "metadata": {
        "colab": {
          "base_uri": "https://localhost:8080/",
          "height": 143
        },
        "id": "ZI03QsfnJm3g",
        "outputId": "d926f838-3438-4442-dfdf-52678c299215"
      },
      "execution_count": 17,
      "outputs": [
        {
          "output_type": "execute_result",
          "data": {
            "text/plain": [
              "     Method Dataset  Training time  Prediction time  Train MAE  Test MAE\n",
              "0  lightgbm       A            8.0             0.07    16542.0   25297.0\n",
              "1  lightgbm       B            0.0             0.05    97470.0  122341.0\n",
              "2  lightgbm       C            1.0             0.09    20791.0   31303.0"
            ],
            "text/html": [
              "\n",
              "  <div id=\"df-5e3db1d4-24c8-49d7-b3e8-85429ceec2b0\">\n",
              "    <div class=\"colab-df-container\">\n",
              "      <div>\n",
              "<style scoped>\n",
              "    .dataframe tbody tr th:only-of-type {\n",
              "        vertical-align: middle;\n",
              "    }\n",
              "\n",
              "    .dataframe tbody tr th {\n",
              "        vertical-align: top;\n",
              "    }\n",
              "\n",
              "    .dataframe thead th {\n",
              "        text-align: right;\n",
              "    }\n",
              "</style>\n",
              "<table border=\"1\" class=\"dataframe\">\n",
              "  <thead>\n",
              "    <tr style=\"text-align: right;\">\n",
              "      <th></th>\n",
              "      <th>Method</th>\n",
              "      <th>Dataset</th>\n",
              "      <th>Training time</th>\n",
              "      <th>Prediction time</th>\n",
              "      <th>Train MAE</th>\n",
              "      <th>Test MAE</th>\n",
              "    </tr>\n",
              "  </thead>\n",
              "  <tbody>\n",
              "    <tr>\n",
              "      <th>0</th>\n",
              "      <td>lightgbm</td>\n",
              "      <td>A</td>\n",
              "      <td>8.0</td>\n",
              "      <td>0.07</td>\n",
              "      <td>16542.0</td>\n",
              "      <td>25297.0</td>\n",
              "    </tr>\n",
              "    <tr>\n",
              "      <th>1</th>\n",
              "      <td>lightgbm</td>\n",
              "      <td>B</td>\n",
              "      <td>0.0</td>\n",
              "      <td>0.05</td>\n",
              "      <td>97470.0</td>\n",
              "      <td>122341.0</td>\n",
              "    </tr>\n",
              "    <tr>\n",
              "      <th>2</th>\n",
              "      <td>lightgbm</td>\n",
              "      <td>C</td>\n",
              "      <td>1.0</td>\n",
              "      <td>0.09</td>\n",
              "      <td>20791.0</td>\n",
              "      <td>31303.0</td>\n",
              "    </tr>\n",
              "  </tbody>\n",
              "</table>\n",
              "</div>\n",
              "      <button class=\"colab-df-convert\" onclick=\"convertToInteractive('df-5e3db1d4-24c8-49d7-b3e8-85429ceec2b0')\"\n",
              "              title=\"Convert this dataframe to an interactive table.\"\n",
              "              style=\"display:none;\">\n",
              "        \n",
              "  <svg xmlns=\"http://www.w3.org/2000/svg\" height=\"24px\"viewBox=\"0 0 24 24\"\n",
              "       width=\"24px\">\n",
              "    <path d=\"M0 0h24v24H0V0z\" fill=\"none\"/>\n",
              "    <path d=\"M18.56 5.44l.94 2.06.94-2.06 2.06-.94-2.06-.94-.94-2.06-.94 2.06-2.06.94zm-11 1L8.5 8.5l.94-2.06 2.06-.94-2.06-.94L8.5 2.5l-.94 2.06-2.06.94zm10 10l.94 2.06.94-2.06 2.06-.94-2.06-.94-.94-2.06-.94 2.06-2.06.94z\"/><path d=\"M17.41 7.96l-1.37-1.37c-.4-.4-.92-.59-1.43-.59-.52 0-1.04.2-1.43.59L10.3 9.45l-7.72 7.72c-.78.78-.78 2.05 0 2.83L4 21.41c.39.39.9.59 1.41.59.51 0 1.02-.2 1.41-.59l7.78-7.78 2.81-2.81c.8-.78.8-2.07 0-2.86zM5.41 20L4 18.59l7.72-7.72 1.47 1.35L5.41 20z\"/>\n",
              "  </svg>\n",
              "      </button>\n",
              "      \n",
              "  <style>\n",
              "    .colab-df-container {\n",
              "      display:flex;\n",
              "      flex-wrap:wrap;\n",
              "      gap: 12px;\n",
              "    }\n",
              "\n",
              "    .colab-df-convert {\n",
              "      background-color: #E8F0FE;\n",
              "      border: none;\n",
              "      border-radius: 50%;\n",
              "      cursor: pointer;\n",
              "      display: none;\n",
              "      fill: #1967D2;\n",
              "      height: 32px;\n",
              "      padding: 0 0 0 0;\n",
              "      width: 32px;\n",
              "    }\n",
              "\n",
              "    .colab-df-convert:hover {\n",
              "      background-color: #E2EBFA;\n",
              "      box-shadow: 0px 1px 2px rgba(60, 64, 67, 0.3), 0px 1px 3px 1px rgba(60, 64, 67, 0.15);\n",
              "      fill: #174EA6;\n",
              "    }\n",
              "\n",
              "    [theme=dark] .colab-df-convert {\n",
              "      background-color: #3B4455;\n",
              "      fill: #D2E3FC;\n",
              "    }\n",
              "\n",
              "    [theme=dark] .colab-df-convert:hover {\n",
              "      background-color: #434B5C;\n",
              "      box-shadow: 0px 1px 3px 1px rgba(0, 0, 0, 0.15);\n",
              "      filter: drop-shadow(0px 1px 2px rgba(0, 0, 0, 0.3));\n",
              "      fill: #FFFFFF;\n",
              "    }\n",
              "  </style>\n",
              "\n",
              "      <script>\n",
              "        const buttonEl =\n",
              "          document.querySelector('#df-5e3db1d4-24c8-49d7-b3e8-85429ceec2b0 button.colab-df-convert');\n",
              "        buttonEl.style.display =\n",
              "          google.colab.kernel.accessAllowed ? 'block' : 'none';\n",
              "\n",
              "        async function convertToInteractive(key) {\n",
              "          const element = document.querySelector('#df-5e3db1d4-24c8-49d7-b3e8-85429ceec2b0');\n",
              "          const dataTable =\n",
              "            await google.colab.kernel.invokeFunction('convertToInteractive',\n",
              "                                                     [key], {});\n",
              "          if (!dataTable) return;\n",
              "\n",
              "          const docLinkHtml = 'Like what you see? Visit the ' +\n",
              "            '<a target=\"_blank\" href=https://colab.research.google.com/notebooks/data_table.ipynb>data table notebook</a>'\n",
              "            + ' to learn more about interactive tables.';\n",
              "          element.innerHTML = '';\n",
              "          dataTable['output_type'] = 'display_data';\n",
              "          await google.colab.output.renderOutput(dataTable, element);\n",
              "          const docLink = document.createElement('div');\n",
              "          docLink.innerHTML = docLinkHtml;\n",
              "          element.appendChild(docLink);\n",
              "        }\n",
              "      </script>\n",
              "    </div>\n",
              "  </div>\n",
              "  "
            ]
          },
          "metadata": {},
          "execution_count": 17
        }
      ]
    },
    {
      "cell_type": "markdown",
      "metadata": {
        "collapsed": false,
        "id": "5fszZoFc7X2y"
      },
      "source": [
        "**Ваши выводы:**\n",
        "\n",
        "* Видим, что время работы на порядок быстрее\n",
        "* Лучше всего справился датасет `А`, видимо, потому что LGBMRegressor как-то по-своему кодирует признаки\n",
        "* При этом видим, что на датасете `В` ошибка даже больше чем у прошлых регрессоров\n",
        "\n"
      ]
    },
    {
      "cell_type": "markdown",
      "metadata": {
        "id": "VG3K3-ZU7X2y"
      },
      "source": [
        "Как вы видите, иногда можно не возиться с OHE, а позволить библиотекам самим это сделать (хотя иногда при этом приходится повозиться с самими данными, чтобы библиотека их съела).\n",
        "\n",
        "Итак, мы с вами почти стали мастерами градиентного бустинга. Переходим к последней звезде нашего хит-парада.\n"
      ]
    },
    {
      "cell_type": "markdown",
      "metadata": {
        "id": "FHGs73NI7X2z"
      },
      "source": [
        "## Градиентный бустинг в catboost\n",
        "\n",
        "_**Пролог:** Why does catboost need random seed? It grows random trees!_\n",
        "\n",
        "Библиотека, созданная в тёмных подвалах Яндекса. По легендам эта библиотека умеет работать с категориальными данными, быстрая, эффективная, легко настраивается, из коробки понимает текстовые признаки в задачах классификации и спасла Брюса Уиллиса. Давайте проверим. В качестве регрессора нас интересует catboost.CatBoostRegressor.\n",
        "\n",
        "**Внимание!** Эта библиотека еще более болтлива, чем lightgbm, но это (почти) полностью лечится с помощью verbose. Однако ноутбуки всё равно неприлично разрастаются в размерах, поэтому просим вас сделать следующее: <span style=\"color:red\"> обучать catboost в первой ячейке и очистить её вывод перед сдачей! </span> Все необходимые выводы стоит делать во второй ячейке.\n",
        "\n",
        "А еще эта библиотека может неожиданно создать вам парочку новых папок...\n",
        "\n",
        "### Задание 5 (кросс-проверка, 2 балла):\n",
        "**Данные**: датасет со стоимостью подержанных автомобилей  \n",
        "**Метрика**: MAE  \n",
        "**Цели**: В данном задании следует выполнить следующие пункты:  \n",
        "1. Обучить catboost.CatBoostRegressor на датасетах A, B и C, используя параметры используя параметры n_estimators=1000, max_depth=5, learning_rate=0.1, verbose=False.\n",
        "1. В случае датасета A, передайте на вход методу fit/конструктору параметр cat_features, содержащий имена/индексы категориальных переменных. В данном случае переводить категории в целые числа, как мы делали для lightgbm, не нужно. Замерьте время обучения.\n",
        "3. Посчитать MAE для полученных предсказаний на соответствующих тренировочном и тестовом множествах (можно воспользоваться sklearn.metrics.mean_absolute_error).\n",
        "4. Сделайте выводы и полезности использования категориальных переменных и времени обучения.\n",
        "5. Вывести результаты и время в таблице DataFrame.\n"
      ]
    },
    {
      "cell_type": "code",
      "execution_count": 18,
      "metadata": {
        "id": "4R0WHEhh7X2z"
      },
      "outputs": [],
      "source": [
        "import warnings\n",
        "warnings.filterwarnings(\"ignore\")\n",
        "\n",
        "CatBoost_A = CatBoostRegressor(n_estimators=1000, max_depth=5, learning_rate=0.1, verbose=False)\n",
        "CatBoost_B = CatBoostRegressor(n_estimators=1000, max_depth=5, learning_rate=0.1, verbose=False)\n",
        "CatBoost_C = CatBoostRegressor(n_estimators=1000, max_depth=5, learning_rate=0.1, verbose=False)"
      ]
    },
    {
      "cell_type": "code",
      "source": [
        "# A train\n",
        "start_time = time.time()\n",
        "CatBoost_A.fit(X_train_A, y_train_A, cat_features=columns_category)\n",
        "A_fit_time_CatBoost = np.round(time.time() - start_time)\n",
        "\n",
        "# B train\n",
        "start_time = time.time()\n",
        "CatBoost_B.fit(X_train_B, y_train_B)\n",
        "B_fit_time_CatBoost = np.round(time.time() - start_time)\n",
        "\n",
        "# C train\n",
        "start_time = time.time()\n",
        "CatBoost_C.fit(X_train_C, y_train_C)\n",
        "C_fit_time_CatBoost = np.round(time.time() - start_time)\n",
        "\n",
        "# A test\n",
        "start_time = time.time()\n",
        "predict_A = CatBoost_A.predict(X_test_A)\n",
        "A_predict_time_CatBoost = np.round(time.time() - start_time, 2)\n",
        "\n",
        "# B test\n",
        "start_time = time.time()\n",
        "predict_B = CatBoost_B.predict(X_test_B)\n",
        "B_predict_time_CatBoost = np.round(time.time() - start_time, 2)\n",
        "\n",
        "# C test\n",
        "start_time = time.time()\n",
        "predict_C = CatBoost_C.predict(X_test_C)\n",
        "C_predict_time_CatBoost = np.round(time.time() - start_time, 2)\n",
        "\n",
        "# MAE test\n",
        "A_MAE_test_CatBoost = np.round(mean_absolute_error(y_test_A, predict_A))\n",
        "B_MAE_test_CatBoost = np.round(mean_absolute_error(y_test_B, predict_B))\n",
        "C_MAE_test_CatBoost = np.round(mean_absolute_error(y_test_C, predict_C))\n",
        "\n",
        "predict_A = CatBoost_A.predict(X_train_A)\n",
        "predict_B = CatBoost_B.predict(X_train_B)\n",
        "predict_C = CatBoost_C.predict(X_train_C)\n",
        "\n",
        "# MAE train\n",
        "A_MAE_train_CatBoost = np.round(mean_absolute_error(y_train_A, predict_A))\n",
        "B_MAE_train_CatBoost = np.round(mean_absolute_error(y_train_B, predict_B))\n",
        "C_MAE_train_CatBoost = np.round(mean_absolute_error(y_train_C, predict_C))"
      ],
      "metadata": {
        "id": "nZR8S0c1Kgy2"
      },
      "execution_count": 19,
      "outputs": []
    },
    {
      "cell_type": "code",
      "source": [
        "row0_CatBoost = [\"catboost\", \"A\", A_fit_time_CatBoost, A_predict_time_CatBoost, A_MAE_train_CatBoost, A_MAE_test_CatBoost]\n",
        "row1_CatBoost = [\"catboost\", \"B\", B_fit_time_CatBoost, B_predict_time_CatBoost, B_MAE_train_CatBoost, B_MAE_test_CatBoost]\n",
        "row2_CatBoost = [\"catboost\", \"C\", C_fit_time_CatBoost, C_predict_time_CatBoost, C_MAE_train_CatBoost, C_MAE_test_CatBoost]\n",
        "columns=[\"Method\", 'Dataset', 'Training time', 'Prediction time', 'Train MAE', 'Test MAE']\n",
        "df_catboost = pd.DataFrame([row0_CatBoost, row1_CatBoost, row2_CatBoost], columns=columns)\n",
        "df_catboost"
      ],
      "metadata": {
        "colab": {
          "base_uri": "https://localhost:8080/",
          "height": 143
        },
        "id": "S9Os7GO3Kjwh",
        "outputId": "00d292f7-c98d-4caa-dc85-0bd32a6c7a75"
      },
      "execution_count": 20,
      "outputs": [
        {
          "output_type": "execute_result",
          "data": {
            "text/plain": [
              "     Method Dataset  Training time  Prediction time  Train MAE  Test MAE\n",
              "0  catboost       A           11.0             0.05    12005.0   15613.0\n",
              "1  catboost       B            9.0             0.01    99395.0  121639.0\n",
              "2  catboost       C            8.0             0.10    15592.0   22836.0"
            ],
            "text/html": [
              "\n",
              "  <div id=\"df-e7fe94ab-6d32-4104-998b-1171b8861e73\">\n",
              "    <div class=\"colab-df-container\">\n",
              "      <div>\n",
              "<style scoped>\n",
              "    .dataframe tbody tr th:only-of-type {\n",
              "        vertical-align: middle;\n",
              "    }\n",
              "\n",
              "    .dataframe tbody tr th {\n",
              "        vertical-align: top;\n",
              "    }\n",
              "\n",
              "    .dataframe thead th {\n",
              "        text-align: right;\n",
              "    }\n",
              "</style>\n",
              "<table border=\"1\" class=\"dataframe\">\n",
              "  <thead>\n",
              "    <tr style=\"text-align: right;\">\n",
              "      <th></th>\n",
              "      <th>Method</th>\n",
              "      <th>Dataset</th>\n",
              "      <th>Training time</th>\n",
              "      <th>Prediction time</th>\n",
              "      <th>Train MAE</th>\n",
              "      <th>Test MAE</th>\n",
              "    </tr>\n",
              "  </thead>\n",
              "  <tbody>\n",
              "    <tr>\n",
              "      <th>0</th>\n",
              "      <td>catboost</td>\n",
              "      <td>A</td>\n",
              "      <td>11.0</td>\n",
              "      <td>0.05</td>\n",
              "      <td>12005.0</td>\n",
              "      <td>15613.0</td>\n",
              "    </tr>\n",
              "    <tr>\n",
              "      <th>1</th>\n",
              "      <td>catboost</td>\n",
              "      <td>B</td>\n",
              "      <td>9.0</td>\n",
              "      <td>0.01</td>\n",
              "      <td>99395.0</td>\n",
              "      <td>121639.0</td>\n",
              "    </tr>\n",
              "    <tr>\n",
              "      <th>2</th>\n",
              "      <td>catboost</td>\n",
              "      <td>C</td>\n",
              "      <td>8.0</td>\n",
              "      <td>0.10</td>\n",
              "      <td>15592.0</td>\n",
              "      <td>22836.0</td>\n",
              "    </tr>\n",
              "  </tbody>\n",
              "</table>\n",
              "</div>\n",
              "      <button class=\"colab-df-convert\" onclick=\"convertToInteractive('df-e7fe94ab-6d32-4104-998b-1171b8861e73')\"\n",
              "              title=\"Convert this dataframe to an interactive table.\"\n",
              "              style=\"display:none;\">\n",
              "        \n",
              "  <svg xmlns=\"http://www.w3.org/2000/svg\" height=\"24px\"viewBox=\"0 0 24 24\"\n",
              "       width=\"24px\">\n",
              "    <path d=\"M0 0h24v24H0V0z\" fill=\"none\"/>\n",
              "    <path d=\"M18.56 5.44l.94 2.06.94-2.06 2.06-.94-2.06-.94-.94-2.06-.94 2.06-2.06.94zm-11 1L8.5 8.5l.94-2.06 2.06-.94-2.06-.94L8.5 2.5l-.94 2.06-2.06.94zm10 10l.94 2.06.94-2.06 2.06-.94-2.06-.94-.94-2.06-.94 2.06-2.06.94z\"/><path d=\"M17.41 7.96l-1.37-1.37c-.4-.4-.92-.59-1.43-.59-.52 0-1.04.2-1.43.59L10.3 9.45l-7.72 7.72c-.78.78-.78 2.05 0 2.83L4 21.41c.39.39.9.59 1.41.59.51 0 1.02-.2 1.41-.59l7.78-7.78 2.81-2.81c.8-.78.8-2.07 0-2.86zM5.41 20L4 18.59l7.72-7.72 1.47 1.35L5.41 20z\"/>\n",
              "  </svg>\n",
              "      </button>\n",
              "      \n",
              "  <style>\n",
              "    .colab-df-container {\n",
              "      display:flex;\n",
              "      flex-wrap:wrap;\n",
              "      gap: 12px;\n",
              "    }\n",
              "\n",
              "    .colab-df-convert {\n",
              "      background-color: #E8F0FE;\n",
              "      border: none;\n",
              "      border-radius: 50%;\n",
              "      cursor: pointer;\n",
              "      display: none;\n",
              "      fill: #1967D2;\n",
              "      height: 32px;\n",
              "      padding: 0 0 0 0;\n",
              "      width: 32px;\n",
              "    }\n",
              "\n",
              "    .colab-df-convert:hover {\n",
              "      background-color: #E2EBFA;\n",
              "      box-shadow: 0px 1px 2px rgba(60, 64, 67, 0.3), 0px 1px 3px 1px rgba(60, 64, 67, 0.15);\n",
              "      fill: #174EA6;\n",
              "    }\n",
              "\n",
              "    [theme=dark] .colab-df-convert {\n",
              "      background-color: #3B4455;\n",
              "      fill: #D2E3FC;\n",
              "    }\n",
              "\n",
              "    [theme=dark] .colab-df-convert:hover {\n",
              "      background-color: #434B5C;\n",
              "      box-shadow: 0px 1px 3px 1px rgba(0, 0, 0, 0.15);\n",
              "      filter: drop-shadow(0px 1px 2px rgba(0, 0, 0, 0.3));\n",
              "      fill: #FFFFFF;\n",
              "    }\n",
              "  </style>\n",
              "\n",
              "      <script>\n",
              "        const buttonEl =\n",
              "          document.querySelector('#df-e7fe94ab-6d32-4104-998b-1171b8861e73 button.colab-df-convert');\n",
              "        buttonEl.style.display =\n",
              "          google.colab.kernel.accessAllowed ? 'block' : 'none';\n",
              "\n",
              "        async function convertToInteractive(key) {\n",
              "          const element = document.querySelector('#df-e7fe94ab-6d32-4104-998b-1171b8861e73');\n",
              "          const dataTable =\n",
              "            await google.colab.kernel.invokeFunction('convertToInteractive',\n",
              "                                                     [key], {});\n",
              "          if (!dataTable) return;\n",
              "\n",
              "          const docLinkHtml = 'Like what you see? Visit the ' +\n",
              "            '<a target=\"_blank\" href=https://colab.research.google.com/notebooks/data_table.ipynb>data table notebook</a>'\n",
              "            + ' to learn more about interactive tables.';\n",
              "          element.innerHTML = '';\n",
              "          dataTable['output_type'] = 'display_data';\n",
              "          await google.colab.output.renderOutput(dataTable, element);\n",
              "          const docLink = document.createElement('div');\n",
              "          docLink.innerHTML = docLinkHtml;\n",
              "          element.appendChild(docLink);\n",
              "        }\n",
              "      </script>\n",
              "    </div>\n",
              "  </div>\n",
              "  "
            ]
          },
          "metadata": {},
          "execution_count": 20
        }
      ]
    },
    {
      "cell_type": "markdown",
      "metadata": {
        "id": "ZSZ4lQ577X2z"
      },
      "source": [
        "**Ваши выводы:**\n",
        "\n",
        "* Время обучения примерно такое же как и у `XGBRegressor` и `GradientBoostingRegressor`. При этом эта библиотека показала лучший результат на датасете `A`."
      ]
    },
    {
      "cell_type": "markdown",
      "metadata": {
        "id": "YWvlkoDs7X2z"
      },
      "source": [
        "И так, мы наконец познакомились со всеми библиотеками градиентного бустинга.\n",
        "\n",
        "## Обобщение результатов\n",
        "\n",
        "На текущем этапе у вас должно быть несколько датафреймов результатами по каждой библиотеке. Мы, конечно, сделали некоторые выводы, но пришло время собрать это в красивый отчет.\n",
        "\n",
        "### Задание 6 (кросс-проверка, 2 балла):\n",
        "**Данные**: датасет с ценами подержанных автомобилей  \n",
        "**Цели**: В данном задании следует выполнить следующие пункты:  \n",
        "1. При помощи одного или нескольких графиков показать результаты различных библиотек: времени работы и качество результатов. Можете воспользоваться любым типом графиков: гистограммы, scatter и т.д. По этим графикам должно быть понятно какая библиотека и насколько быстрее, насколько различается их качество.\n",
        "2. По графикам сравните библиотеки, производительность и качество работы. Опишите ваши выводы ниже."
      ]
    },
    {
      "cell_type": "code",
      "execution_count": 21,
      "metadata": {
        "id": "o91bIyE57X2z"
      },
      "outputs": [],
      "source": [
        "import seaborn as sns"
      ]
    },
    {
      "cell_type": "code",
      "source": [
        "%matplotlib inline\n",
        "plt.style.use(\"ggplot\")\n",
        "plt.rcParams['figure.dpi'] = 100"
      ],
      "metadata": {
        "id": "2r-EKrrKKwW6"
      },
      "execution_count": 22,
      "outputs": []
    },
    {
      "cell_type": "code",
      "source": [
        "result = pd.concat([df_skl, df_catboost, df_lightgbm, df_xgb])\n",
        "\n",
        "fig, axes = plt.subplots(2, 2, figsize=(15, 7))\n",
        "\n",
        "sns.barplot(data=result, x=\"Method\", y=\"Training time\", hue=\"Dataset\", ax = axes[0, 0], width= 0.5)\n",
        "sns.barplot(data=result, x=\"Method\", y=\"Prediction time\", hue=\"Dataset\", ax = axes[0, 1], width= 0.5)\n",
        "sns.barplot(data=result, x=\"Method\", y=\"Train MAE\", hue=\"Dataset\", ax = axes[1, 0], width= 0.5)\n",
        "sns.barplot(data=result, x=\"Method\", y=\"Test MAE\", hue=\"Dataset\", ax = axes[1, 1], width= 0.5)\n",
        "axes[0, 0].ticklabel_format(style='sci', axis='y', scilimits=(0,0))\n",
        "axes[0, 1].ticklabel_format(style='sci', axis='y', scilimits=(0,0))\n",
        "axes[1, 0].ticklabel_format(style='sci', axis='y', scilimits=(0,0))\n",
        "axes[1, 1].ticklabel_format(style='sci', axis='y', scilimits=(0,0))"
      ],
      "metadata": {
        "colab": {
          "base_uri": "https://localhost:8080/",
          "height": 638
        },
        "id": "NPpLmbgcKyFj",
        "outputId": "1d4a345e-108d-4e06-ea74-e53238913c47"
      },
      "execution_count": 23,
      "outputs": [
        {
          "output_type": "display_data",
          "data": {
            "text/plain": [
              "<Figure size 1500x700 with 4 Axes>"
            ],
            "image/png": "[encoded data removed]"
          },
          "metadata": {}
        }
      ]
    },
    {
      "cell_type": "markdown",
      "metadata": {
        "collapsed": false,
        "id": "g4cXZ1_N7X20"
      },
      "source": [
        "**Ваши выводы:**\n",
        "\n",
        "* Производительность\n",
        "   * Быстрее всех обучался lightbm, вторым по скорости стал catboost\n",
        "   * Дольше всех работал XGBoost\n",
        "* Качетво\n",
        "   * Самую маленькую МАЕ на тесте показал catboost\n",
        "   * Худшее качетсво получилось на датасете B, а лучшее на датасете А\n",
        "\n"
      ]
    },
    {
      "cell_type": "markdown",
      "metadata": {
        "id": "nLEFq9lM7X20"
      },
      "source": [
        "## Оптимизация параметров\n",
        "\n",
        "И так, мы с вами научились пользоваться библиотеками для градиентного бустинга. Пришло время заняться самой интересной (нет) частью исследований, а именно подбором параметров!\n",
        "\n",
        "Выберите любые две библиотеки из тех, с которыми мы работали в этом ноутбуке, и осуществите для них перебор параметров по сетке.\n",
        "\n",
        "Обратите внимание, что:\n",
        "\n",
        "1. Для всех библиотек вы можете воспользоваться классом GridSearchCV, реализованном в sklearn, осуществляющего кросс-валидацию всех параметров и поиска модели с лучшим качеством. Обратите внимание, что этот класс позволяет установить количество разбиений датасета, что достаточно сильно влияет на время работы. Также вы можете воспользоваться n_jobs=-1 для распараллеливания процесса перебора. ВНИМАНИЕ! Если Вы устанавливаете n_jobs для GridSearchCV, то не надо использовать этот параметр для обучаемых регрессоров! Результат может быть плачевным в плане времени...\n",
        "2. В catboost существует своя реализация перебора параметров, которым можно также воспользоваться (речь о grid_search).\n",
        "3. Для подбора правильной сетки параметров советуем обратиться к краткому руководству в начале ноутбука.\n",
        "\n",
        "\n",
        "### Задание 7.1 (кросс-проверка, 2 балла):\n",
        "**Данные**: датасет со стоимостью подержанных автомобилей  \n",
        "**Метрика**: MAE  \n",
        "**Цели**: В данном задании следует выполнить следующие пункты:  \n",
        "1. Взять две любые библиотеки градиентного бустинга (можете взять самые быстрые)\n",
        "2. Составить сетку перебора параметров, включающую параметры n_estimators, max_depth и learning_rate.\n",
        "3. Осуществите перебор параметров по вашей сетке при помощи GridSearchCV на датасетах B и C. Замерьте время перебора. Посчитайте качество модели обученной с оптимальными (с позиции кросс-валидации) параметрами на тренировочном и тестовом множествах.\n",
        "4. Сделайте выводы о полезности перебора параметров.\n"
      ]
    },
    {
      "cell_type": "markdown",
      "metadata": {
        "collapsed": false,
        "id": "wAHV1qlq7X20"
      },
      "source": [
        "## Внимание!\n",
        "\n",
        "По какой-то причине, которую мне не удалось выяснить, catboost в google colab работает очень медленно при переборе параметров. Если в соответствующем задании время обучения catboost занимает не многим более 10 секунд, то в случае кросс-валидации оно возрастает до 5 минут (соответственно, 5 минут в каждом из узлов). Поэтому используйте catboost на свой страх и риск :)"
      ]
    },
    {
      "cell_type": "code",
      "execution_count": 24,
      "metadata": {
        "id": "006a7u4k7X20",
        "colab": {
          "base_uri": "https://localhost:8080/"
        },
        "outputId": "ae012aa1-44e7-44b4-fe0c-dd188e13c965"
      },
      "outputs": [
        {
          "output_type": "stream",
          "name": "stdout",
          "text": [
            "Fitting 3 folds for each of 60 candidates, totalling 180 fits\n",
            "Fitting 3 folds for each of 60 candidates, totalling 180 fits\n"
          ]
        }
      ],
      "source": [
        "# определение параметров для перебора\n",
        "parameters  = {'max_depth'         : [4, 5, 6,7,8],\n",
        "              'learning_rate' : [1e-3, 1e-2, 1e-1, 1],\n",
        "              'n_estimators'    : [500, 1000, 2000]\n",
        "              }\n",
        "\n",
        "LGBM_B = LGBMRegressor()\n",
        "LGBM_C = LGBMRegressor()\n",
        "\n",
        "clf_B = GridSearchCV(estimator=LGBM_B,\n",
        "                     param_grid = parameters,\n",
        "                     cv = 3,\n",
        "                     n_jobs=-1,\n",
        "                     verbose=1\n",
        "                     )\n",
        "\n",
        "clf_C = GridSearchCV(estimator=LGBM_C,\n",
        "                     param_grid = parameters,\n",
        "                     cv = 3,\n",
        "                     n_jobs=-1,\n",
        "                     verbose=1\n",
        "                     )\n",
        "\n",
        "# B train\n",
        "start_time = time.time()\n",
        "clf_B.fit(X_train_B, y_train_B)\n",
        "B_fit_time_LGBM = np.round(time.time() - start_time)\n",
        "\n",
        "# C train\n",
        "start_time = time.time()\n",
        "clf_C.fit(X_train_C, y_train_C)\n",
        "C_fit_time_LGBM = np.round(time.time() - start_time)"
      ]
    },
    {
      "cell_type": "code",
      "source": [
        "clf_C.best_params_, clf_B.best_params_"
      ],
      "metadata": {
        "colab": {
          "base_uri": "https://localhost:8080/"
        },
        "id": "J-W4jE5sLEPz",
        "outputId": "2b417c6c-62e3-474f-a32b-b160b95a3742"
      },
      "execution_count": 25,
      "outputs": [
        {
          "output_type": "execute_result",
          "data": {
            "text/plain": [
              "({'learning_rate': 0.01, 'max_depth': 6, 'n_estimators': 500},\n",
              " {'learning_rate': 0.001, 'max_depth': 4, 'n_estimators': 2000})"
            ]
          },
          "metadata": {},
          "execution_count": 25
        }
      ]
    },
    {
      "cell_type": "code",
      "source": [
        "model_B = LGBMRegressor(**clf_B.best_params_)\n",
        "model_C = LGBMRegressor(**clf_C.best_params_)\n",
        "cv_score_B = cross_val_score(model_B, X_test_B, y_test_B, cv=5, scoring='neg_mean_absolute_error').mean()\n",
        "cv_score_C = cross_val_score(model_C, X_test_C, y_test_C, cv=5, scoring='neg_mean_absolute_error').mean()\n",
        "print(\"model_B: {}, model_C: {}\".format(np.round(cv_score_B, 2), np.round(cv_score_C, 2)))"
      ],
      "metadata": {
        "colab": {
          "base_uri": "https://localhost:8080/"
        },
        "id": "ecn0MIw_LGZ1",
        "outputId": "69f1c06f-fffd-4e1f-9b56-e0dbab498e3e"
      },
      "execution_count": 26,
      "outputs": [
        {
          "output_type": "stream",
          "name": "stdout",
          "text": [
            "model_B: -124774.17, model_C: -45806.59\n"
          ]
        }
      ]
    },
    {
      "cell_type": "code",
      "source": [
        "# определение параметров для перебора\n",
        "parameters  = {'max_depth'         : [9, 10],\n",
        "               'learning_rate' : [0.01, 0.1, 1],\n",
        "               'n_estimators'    : [1000, 1500, 2000],\n",
        "               'verbose' : [False]\n",
        "              }\n",
        "\n",
        "CatBoost_B = CatBoostRegressor()\n",
        "CatBoost_C = CatBoostRegressor()\n",
        "\n",
        "clf_B = GridSearchCV(estimator=CatBoost_B,\n",
        "                     param_grid = parameters,\n",
        "                     cv = 2,\n",
        "                     n_jobs=-1,\n",
        "                     verbose=1\n",
        "                     )\n",
        "\n",
        "clf_C = GridSearchCV(estimator=CatBoost_C,\n",
        "                     param_grid = parameters,\n",
        "                     cv = 2,\n",
        "                     n_jobs=-1,\n",
        "                     verbose=1\n",
        "                     )\n",
        "\n",
        "# B train\n",
        "start_time = time.time()\n",
        "clf_B.fit(X_train_B, y_train_B)\n",
        "end_time_B_CatBoost = np.round(time.time() - start_time)\n",
        "\n",
        "# C train\n",
        "start_time = time.time()\n",
        "clf_C.fit(X_train_C, y_train_C)\n",
        "end_time_B_CatBoost = np.round(time.time() - start_time)"
      ],
      "metadata": {
        "colab": {
          "base_uri": "https://localhost:8080/"
        },
        "id": "jMWIlcazLIIO",
        "outputId": "8cdc1359-0851-4ddb-8229-e794b2e4f0e6"
      },
      "execution_count": 27,
      "outputs": [
        {
          "output_type": "stream",
          "name": "stdout",
          "text": [
            "Fitting 2 folds for each of 18 candidates, totalling 36 fits\n",
            "Fitting 2 folds for each of 18 candidates, totalling 36 fits\n"
          ]
        }
      ]
    },
    {
      "cell_type": "code",
      "source": [
        "clf_C.best_params_, clf_B.best_params_"
      ],
      "metadata": {
        "colab": {
          "base_uri": "https://localhost:8080/"
        },
        "id": "W66ytaZ_LJvt",
        "outputId": "3ff25bdf-ccab-4205-a16a-87981d03ae4c"
      },
      "execution_count": 28,
      "outputs": [
        {
          "output_type": "execute_result",
          "data": {
            "text/plain": [
              "({'learning_rate': 0.1,\n",
              "  'max_depth': 9,\n",
              "  'n_estimators': 2000,\n",
              "  'verbose': False},\n",
              " {'learning_rate': 0.01,\n",
              "  'max_depth': 9,\n",
              "  'n_estimators': 1000,\n",
              "  'verbose': False})"
            ]
          },
          "metadata": {},
          "execution_count": 28
        }
      ]
    },
    {
      "cell_type": "code",
      "source": [
        "model_B = CatBoostRegressor(**clf_B.best_params_)\n",
        "model_C = CatBoostRegressor(**clf_C.best_params_)\n",
        "cv_score_B = cross_val_score(model_B, X_test_B, y_test_B, cv=5, scoring='neg_mean_absolute_error').mean()\n",
        "cv_score_C = cross_val_score(model_C, X_test_C, y_test_C, cv=5, scoring='neg_mean_absolute_error').mean()\n",
        "print(\"model_B: {}, model_C: {}\".format(np.round(cv_score_B, 2), np.round(cv_score_C, 2)))"
      ],
      "metadata": {
        "colab": {
          "base_uri": "https://localhost:8080/"
        },
        "id": "SY0oTSw7LLQb",
        "outputId": "245d488d-b5e0-40ff-9522-f179e6577fef"
      },
      "execution_count": 29,
      "outputs": [
        {
          "output_type": "stream",
          "name": "stdout",
          "text": [
            "model_B: -125260.62, model_C: -30852.88\n"
          ]
        }
      ]
    },
    {
      "cell_type": "markdown",
      "metadata": {
        "collapsed": false,
        "id": "7JY1G_lq7X20"
      },
      "source": [
        "**Ваши выводы:**\n",
        "\n",
        "* Перебор параметров позволяет лучше обучить модель под данные\n",
        "* `Сatboost` плохо работает на кросс-валидации\n"
      ]
    },
    {
      "cell_type": "markdown",
      "metadata": {
        "id": "dnhDFuH00cXl"
      },
      "source": [
        "### Задание 7.2 (бонус) (кросс-проверка, 4 балла):\n",
        "**Данные**: датасет со стоимостью подержанных автомобилей  \n",
        "**Метрика**: MAE  \n",
        "**Цели**: В данном задании следует выполнить следующие пункты:  \n",
        "1. Выполнить задание 7.1 с использованием всех библиотек (для каждой библиотеки можно использовать свою сетку перебора). Разрешается использовать маленькие сетки с небольшим числом узлов, но не менее 10.\n",
        "1. Вывести ниже результаты работы с нашими дефолтными параметрами, а также с оптимальными.\n",
        "1. Вы будете получать 1 балл за каждую библиотеку с использованием которой точность ваших оптимальных параметров превзойдет качество наших дефолтных параметров. Таким образом, максимальный балл за задание равен числу библиотек, 4 балла.\n"
      ]
    },
    {
      "cell_type": "markdown",
      "source": [
        "###Задание 8 (кросс-проверка, 2 балла):\n",
        "\n",
        "**Данные**: датасет со стоимостью поддержанных автомобилей\n",
        "\n",
        "**Метрика:** MAE\n",
        "\n",
        "**Цели**: В данном задании следует выполнить следующие пункты:\n",
        "\n",
        " 1.   Взять любую библиотеку градиентного бустинга (можете взять самую быструю)\n",
        " 2.   Составить сетку перебора в hyperopt, включающую параметры n_estimators, max_depth и learning_rate в hyperopt. Вам могут понадобиться такие типы данных, как hp.choise, hp.qloguniform, hp.uniform и hp.quniform (можно также пользоваться np.arange). Также для округления значения типа float до целых чисел (4.0 -> 4) используйте scope.int.\n",
        " 3.   Реализуйте функцию, которая принимает на вход словарь параметров для регрессора, и при помощи cv оценивает его качество на датасете A (можно воспользоваться cross_val_score, а для ускорения поставить cv=3). Не забудьте о том, в каком виде lightgbm принимает категориальные признаки в numpy и что также надо передавать индексы категориальных признаков.\n",
        " 4.   Создайте объект trials=Trials(), который будет хранить информацию о процессе оптимизации.\n",
        " 5.   Используя функцию fmin, оптимизируйте Вашу функцию. Установите algo=tpe.suggest, trials=trials и max_evals, по крайней мере, 50. verbose=1 позволит видеть прогресс-бар по типу tqdm.\n",
        " 6.   Выведите получившиеся параметры. Нарисуйте график, показывающий значение loss в ходе оптимизации. Посчитайте качество на тесте при использовании лучших параметров (возвращаются после использования fmin). Сделайте выводы по результату.\n"
      ],
      "metadata": {
        "id": "B-HDf11ANghZ"
      }
    },
    {
      "cell_type": "code",
      "execution_count": 33,
      "metadata": {
        "id": "jJDicHZi7X21",
        "colab": {
          "base_uri": "https://localhost:8080/"
        },
        "outputId": "fb429256-dc9d-4228-9f82-c10455be6d91"
      },
      "outputs": [
        {
          "output_type": "stream",
          "name": "stdout",
          "text": [
            "100%|██████████| 50/50 [32:51<00:00, 39.43s/trial, best loss: 30622.323120082612]\n"
          ]
        }
      ],
      "source": [
        "space = {'n_estimators': scope.int(hp.quniform('n_estimators', 3000, 7000, 500)),\n",
        "         'max_depth': scope.int(hp.quniform('max_depth', 5, 10, 1)),\n",
        "         'learning_rate':  hp.loguniform('learning_rate', np.log(0.00001), np.log(1))\n",
        "         }\n",
        "\n",
        "def objective(params):\n",
        "    model = LGBMRegressor(**params)\n",
        "\n",
        "    cv_score = cross_val_score(model,\n",
        "                               X_train_A,\n",
        "                               y_train_A,\n",
        "                               cv=3,\n",
        "                               scoring='neg_mean_absolute_error',\n",
        "                               fit_params={\"categorical_feature\":columns_category}).mean()\n",
        "\n",
        "    return {'loss': -1*cv_score, 'params': params, 'status': STATUS_OK}\n",
        "\n",
        "# информация о процессе оптимизации\n",
        "trials = Trials()\n",
        "\n",
        "# алгоритм оптимизации ищем вручную\n",
        "tpe_algo = tpe.suggest\n",
        "\n",
        "best_params = fmin(fn=objective,\n",
        "                   space=space,\n",
        "                   algo=tpe_algo,\n",
        "                   max_evals=50,\n",
        "                   trials=trials,\n",
        "                   verbose=1)"
      ]
    },
    {
      "cell_type": "code",
      "source": [
        "best_params"
      ],
      "metadata": {
        "colab": {
          "base_uri": "https://localhost:8080/"
        },
        "id": "7yCJtae1LaRY",
        "outputId": "23808508-e50b-4d3a-f65b-c5b41f829c49"
      },
      "execution_count": 34,
      "outputs": [
        {
          "output_type": "execute_result",
          "data": {
            "text/plain": [
              "{'learning_rate': 0.0037251458382494317,\n",
              " 'max_depth': 10.0,\n",
              " 'n_estimators': 7000.0}"
            ]
          },
          "metadata": {},
          "execution_count": 34
        }
      ]
    },
    {
      "cell_type": "code",
      "source": [
        "cl = LGBMRegressor(**{'learning_rate': 0.0042, 'max_depth': 10, 'n_estimators': 7000})\n",
        "cl.fit(X_train_A, y_train_A, categorical_feature=columns_category)\n",
        "print(\"score: {}\".format(np.round(mean_absolute_error(y_test_A, cl.predict(X_test_A)),2)))"
      ],
      "metadata": {
        "colab": {
          "base_uri": "https://localhost:8080/"
        },
        "id": "oBxnVfXuLb-n",
        "outputId": "3a7cdcab-2610-4ecf-a4af-1c2de9d752af"
      },
      "execution_count": 35,
      "outputs": [
        {
          "output_type": "stream",
          "name": "stdout",
          "text": [
            "score: 20011.81\n"
          ]
        }
      ]
    },
    {
      "cell_type": "markdown",
      "metadata": {
        "id": "nlDR9qQq7X21"
      },
      "source": [
        "**Ваши выводы:**\n",
        "\n",
        "* Перебор параметров дал бльшой прирость в производительности. Удалось улучшить результат, который был на test_parameters\n",
        "\n",
        "* Для `LGBMRegressor`:\n",
        " * `learning_rate`: 0.0042\n",
        "  *`max_depth`: 10\n",
        "  *`n_estimators`: 7000\n"
      ]
    },
    {
      "cell_type": "markdown",
      "metadata": {
        "id": "ro50Y3f17X21"
      },
      "source": [
        "## Предсказание зрительских симпатий\n",
        "\n",
        "Ну что, детишки, а теперь перейдём к действительно важным вопросам.\n",
        "\n",
        "**Внимание!** Следующее задание сдается в системе cv-gml.ru, задание `Град. бустинг (ML)` Для выполнения этого задания необходимо скачать датасет из задания. Здесь вы можете немного почитать про датасет и, при желании, поэкспериментировать. На cv-gml.ru загружайте уже готовый скрипт с подобранными параметрами для обучаемого регрессора. Релизовать код необходимо в шаблонном файле awards_prediction.py, который вы можете найти в проверяющей системе.\n",
        "\n",
        "В некотором царстве, некотором государстве была развита кинопромышленность. Новые фильмы в этом государстве показывают по интернету, а пользователи после просмотра могут дать фильму некоторую \"награду\". Наша цель - предсказать число наград для фильма.\n",
        "\n",
        "В нашем распоряжении имеются следующие данные:\n",
        "\n",
        "**awards** - количество наград, полученных фильмом от пользователей (целевое значение)  \n",
        "**potions** - количество магических зелий, потраченных на создание спец-эффектов  \n",
        "**genres** - жанры созданного фильма  \n",
        "**questions** - количество вопросов, заданных пользователями на соответствующих форумах об этом фильме до премьеры  \n",
        "**directors** - режиссеры фильма (если неизвестны, то unknown)  \n",
        "**filming_locations** - области, в которых снимался фильм  \n",
        "**runtime** - продолжительность фильма в некоторых единицах, принятых в этом государстве  \n",
        "**critics_liked** - количество критиков из 100, присудивших награды фильму на предварительных закрытых показах  \n",
        "**pre-orders** - количество зрителей, заранее купивших билеты на первый показ  \n",
        "**keywords** - ключевые слова, описывающие содержание фильма\n",
        "**release_year** - год, во котором фильм был показан (конечно, в летоисчислении этого государства)\n",
        "\n",
        "Следующие поля появляются несколько раз с разными значениями i:\n",
        "\n",
        "**actor_i_known_movies** - количество известных фильмов актера i (i от 0 до 2)\n",
        "\n",
        "**actor_i_postogramm** - количество подписчиков в социальной сети \"по сто грамм\" актера i (i от 0 до 2)\n",
        "\n",
        "**actor_i_gender** - пол актера i (i от 0 до 2)\n",
        "\n",
        "**actor_i_age** - возраст актера i (i от 0 до 2)\n",
        "\n",
        "-----\n",
        "**Внимание!** Учтите, что при OHE кодировании признаки на обучении и тестировании должны совпадать! Если вы примените простое .get_dummies() или что-то подобное, то признаки на трейне и тесте получатся разные! Так что вам, вероятно, придётся придумать способ для того, чтобы сохранить их :)  \n",
        "\n",
        "Подсказка: для работы с текстом можно воспользоваться методом TF-IDF (ключевые слова: TfIdfTransformer). Также может быть полезен CountVectorizer. Только учтите, что никто не гарантирует улучшение результата с использованием данных методов  ;)\n",
        "\n",
        "<font color=\"red\">Внимание!</font> В проверяющей системе имеется проблема с catboost. При использовании этой библиотеки, в скрипте с решением необходимо инициализировать метод с использованием `train_dir` как показано тут:\n",
        "`CatBoostRegressor(train_dir='/tmp/catboost_info')`\n",
        "\n",
        "### Задание 9 (ML задание, 15 баллов):\n",
        "**Данные**: датасет с наградами за фильмы\n",
        "\n",
        "**Метрика**: MAE  \n",
        "\n",
        "**Цели**: В данном задании следует выполнить следующие пункты:  \n",
        "1. Взять любую библиотеку градиентного бустинга\n",
        "2. Используя предложенный датасет, обучить регрессор для предсказания awards (предоставляем полную свободу в настройках и выборе методов)\n",
        "3. Загрузить решение и получить качество на закрытой выборке больше порогового значения"
      ]
    },
    {
      "cell_type": "markdown",
      "source": [
        "\n",
        "\n",
        "`awards` - количество наград, полученных фильмом от пользователей (целевое значение)\n",
        "\n",
        "`potions` - количество магических зелий, потраченных на создание спец-эффектов\n",
        "\n",
        "`genres` - жанры созданного фильма\n",
        "\n",
        "`questions` - количество вопросов, заданных пользователями на соответствующих форумах об этом фильме до премьеры\n",
        "\n",
        "`directors` - режиссеры фильма (если неизвестны, то unknown)\n",
        "\n",
        "`filming_locations` - области, в которых снимался фильм\n",
        "\n",
        "`runtime` - продолжительность фильма в некоторых единицах, принятых в этом государстве\n",
        "\n",
        "`critics_liked` - количество критиков из 100, присудивших награды фильму на предварительных закрытых показах\n",
        "\n",
        "`pre-orders` - количество зрителей, заранее купивших билеты на первый показ\n",
        "\n",
        "`keywords` - ключевые слова, описывающие содержание фильма\n",
        "\n",
        "`release_year` - год, во котором фильм был показан (конечно, в летоисчислении этого государства) Следующие поля появляеются несколько раз с разными значениями i:\n",
        "\n",
        "`actor_i_known_movies` - количество известных фильмов актера i (i от 1 до 3)\n",
        "\n",
        "`actor_i_postogramm` - количество подписчиков в социальной сети \"по сто грамм\"актера i (i от 1 до 3)\n",
        "\n",
        "`actor_i_gender` - количество пол актера i (i от 1 до 3)\n",
        "\n",
        "`actor_i_age` - возраст актера i (i от 1 до 3)\n"
      ],
      "metadata": {
        "id": "fC5IG8HQMJF2"
      }
    },
    {
      "cell_type": "code",
      "execution_count": 36,
      "metadata": {
        "id": "Fr_YAXOF7X22"
      },
      "outputs": [],
      "source": [
        "import pandas as pd\n",
        "import warnings\n",
        "from numpy import ndarray\n",
        "from sklearn.preprocessing import LabelEncoder\n",
        "import numpy as np\n",
        "from lightgbm import LGBMRegressor\n",
        "\n",
        "warnings.filterwarnings(\"ignore\")\n",
        "\n",
        "\n",
        "def train_model_and_predict(train_file: str, test_file: str) -> ndarray:\n",
        "    \"\"\"\n",
        "    This function reads dataset stored in the folder, trains predictor and returns predictions.\n",
        "    :param train_file: the path to the training dataset\n",
        "    :param test_file: the path to the testing dataset\n",
        "    :return: predictions for the test file in the order of the file lines (ndarray of shape (n_samples,))\n",
        "    \"\"\"\n",
        "\n",
        "    def find_common_dummies(train, test, category):\n",
        "        dummies_train = pd.get_dummies(train[category].apply(pd.Series).stack()).sum(level=0)\n",
        "        columns_train = dummies_train.columns\n",
        "\n",
        "        dummies_test = pd.get_dummies(test[category].apply(pd.Series).stack()).sum(level=0)\n",
        "        columns_test = dummies_test.columns\n",
        "\n",
        "        common_genres = columns_train[np.in1d(columns_train, columns_test)]\n",
        "        dummies_test, dummies_train = dummies_test[common_genres], dummies_train[common_genres]\n",
        "\n",
        "        train = pd.concat([train, dummies_train.reindex(train.index)], axis=1)\n",
        "        test = pd.concat([test, dummies_test.reindex(test.index)], axis=1)\n",
        "\n",
        "        del test[category]\n",
        "        del train[category]\n",
        "\n",
        "        return train, test, common_genres\n",
        "\n",
        "    def transform_dataset(dff_train, dff_test):\n",
        "        category, cl = [], LabelEncoder()\n",
        "\n",
        "        for i in range(3):\n",
        "            cl.fit(dff_train[f\"actor_{i}_gender\"])\n",
        "\n",
        "            dff_train[f\"actor_{i}_gender\"] = cl.transform(dff_train[f\"actor_{i}_gender\"])\n",
        "            dff_test[f\"actor_{i}_gender\"] = cl.transform(dff_test[f\"actor_{i}_gender\"])\n",
        "\n",
        "            dff_train[f\"actor_{i}_gender\"] = dff_train[f\"actor_{i}_gender\"].astype('category')\n",
        "            dff_test[f\"actor_{i}_gender\"] = dff_test[f\"actor_{i}_gender\"].astype('category')\n",
        "            category += [f\"actor_{i}_gender\"]\n",
        "\n",
        "        dff_train, dff_test, common_genres = find_common_dummies(dff_train, dff_test, \"genres\")\n",
        "        category += list(common_genres)\n",
        "\n",
        "        dff_train, dff_test, common_dir = find_common_dummies(dff_train, dff_test, \"directors\")\n",
        "        category += list(common_dir)\n",
        "\n",
        "        dff_train = dff_train.drop(columns=[\"keywords\", \"filming_locations\"])\n",
        "        dff_test = dff_test.drop(columns=[\"keywords\", \"filming_locations\"])\n",
        "\n",
        "        return dff_train, dff_test, category\n",
        "\n",
        "    train = pd.read_json(train_file, lines=True)\n",
        "    test = pd.read_json(test_file, lines=True)\n",
        "\n",
        "    train, test, category = transform_dataset(train, test)\n",
        "\n",
        "    y = train.awards\n",
        "    X = train.drop(columns='awards')\n",
        "\n",
        "    model = LGBMRegressor(**{'learning_rate': 0.0026330215519286913, 'max_depth': 9, 'n_estimators': 3500})\n",
        "\n",
        "    model.fit(X, y, categorical_feature=category)\n",
        "    return model.predict(test.to_numpy())"
      ]
    },
    {
      "cell_type": "code",
      "source": [
        "ans = train_model_and_predict('/content/train.jsonl', \"/content/test.jsonl\")\n",
        "target = pd.read_json('/content/target.json', lines=True)\n",
        "mean_absolute_error(ans, target.to_numpy()[0])"
      ],
      "metadata": {
        "id": "bu3Hl33GMcoY"
      },
      "execution_count": null,
      "outputs": []
    },
    {
      "cell_type": "markdown",
      "source": [
        "\n",
        "\n",
        "* `learning_rate` : 0.0014741619089928102,\n",
        "* `max_depth`: 9,\n",
        "* `n_estimators`: 6500\n",
        "\n",
        "`score` 2095\n"
      ],
      "metadata": {
        "id": "cAQ47ZVTMiNy"
      }
    },
    {
      "cell_type": "markdown",
      "metadata": {
        "id": "XFk8jZ_q7X22"
      },
      "source": [
        "\n",
        "## Конец\n",
        "\n",
        "Ну что детишки... Можете добавлять еще 4 библиотеки в своё резюме датасаентиста!\n"
      ]
    },
    {
      "cell_type": "markdown",
      "source": [
        "```\n",
        "(╯°□°)╯︵ ┻━┻ FLIP THAT TABLE.\n",
        "\n",
        "┻━┻ ︵ ヽ(°□°ヽ) FLIP THIS TABLE.\n",
        "\n",
        "┻━┻ ︵ ＼\\('0')/／ ︵ ┻━┻ FLIP ALL THE TABLES\n",
        "\n",
        "ಠ_ಠ Son... ಠ_ಠ Put. ಠ__ಠ The tables. ಠ___ಠ Back.\n",
        "\n",
        "(╮°-°)╮┳━┳\n",
        "\n",
        "(╯°□°)╯︵ ┻━┻ NEVER!!!!\n",
        "```\n",
        "\n"
      ],
      "metadata": {
        "id": "eX6VORz4e90s"
      }
    }
  ],
  "metadata": {
    "colab": {
      "provenance": []
    },
    "kernelspec": {
      "display_name": "Python 3",
      "language": "python",
      "name": "python3"
    },
    "language_info": {
      "codemirror_mode": {
        "name": "ipython",
        "version": 3
      },
      "file_extension": ".py",
      "mimetype": "text/x-python",
      "name": "python",
      "nbconvert_exporter": "python",
      "pygments_lexer": "ipython3",
      "version": "3.8.8"
    }
  },
  "nbformat": 4,
  "nbformat_minor": 0
}